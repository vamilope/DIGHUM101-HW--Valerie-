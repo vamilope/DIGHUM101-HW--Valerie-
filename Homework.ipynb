{
 "cells": [
  {
   "cell_type": "markdown",
   "metadata": {},
   "source": [
    "****\n",
    "# DIGHUM101-Homework\n",
    "****"
   ]
  },
  {
   "cell_type": "markdown",
   "metadata": {},
   "source": [
    "**Assigned:** June 3, 2019  \n",
    "**Due:** June 24, 2019 (before 11:59:59PM)\n",
    "**Description:** review and test your basic programming skills. \n",
    "\n",
    "**How to submit:** \n",
    "\n",
    "1. Save your notebook! \n",
    "2. Click \"File\" --> \"Download as\" --> \"Notebook (.ipynb)\"\n",
    "3. Visit the bCourses site to view instructions for uploading your .ipynb notebook file.\n",
    "\n",
    "**Questions 1-9, 22, and 62-74 non-coding questions** - just type text in a Markdown cell to answer them.\n",
    "\n",
    "****"
   ]
  },
  {
   "cell_type": "markdown",
   "metadata": {},
   "source": [
    "#### This homework assignment consists of 76 questions total and is divided into X sections:  \n",
    "\n",
    "1: Jupyter Notebooks and basic definitions (Questions 1-9)  \n",
    "\n",
    "2: Variable assignment, types, conversion, and indexing (Questions 10-24)  \n",
    "\n",
    "3: Lists (Questions 25-29)  \n",
    "\n",
    "4: Dictionaries (Questions 30-36)  \n",
    "\n",
    "5: Pandas (Questions 37-47)  \n",
    "\n",
    "6: Text preprocessing (Questions 48-61)  \n",
    "\n",
    "7: Bash (Questions 62-71)  \n",
    "\n",
    "8: Sqlite (Question 72) . \n",
    "\n",
    "9: Projects (Questions 73 and 74)  \n",
    "\n",
    "10: Submit your assignment and GitHub (Questions 75 and 76) \n",
    "****"
   ]
  },
  {
   "cell_type": "markdown",
   "metadata": {},
   "source": [
    "# Section 1: Jupyter Notebooks and basic definitions\n",
    "****"
   ]
  },
  {
   "cell_type": "markdown",
   "metadata": {},
   "source": [
    "#### 1. Describe how you add and delete cells in a Jupyter Notebook."
   ]
  },
  {
   "cell_type": "markdown",
   "metadata": {
    "collapsed": true
   },
   "source": [
    "To add a cell you can click on the insert button at the top of the notebook. Depending on whether you want it above of below you can choose \"Insert Cell Above\" or \"Insert Cell Below.\" You can also press the ecape key then \"a\" or \"b\" (depending on whether you want the cell above or below).\n",
    "\n",
    "To delete a cell you can click on the cell you want to delete and then press the button with the scissors on the top of the notebook. You can also press escape key then \"dd\" to delete a cell."
   ]
  },
  {
   "cell_type": "markdown",
   "metadata": {},
   "source": [
    "#### 2. Describe how to convert code cells to markdown cells and vice-versa in a Jupyter Notebook."
   ]
  },
  {
   "cell_type": "markdown",
   "metadata": {
    "collapsed": true
   },
   "source": [
    "You can select the type of cell you want by clicking the cell button at the top of the page. From cell you go to cell type and you can choose \"Code,\" \"Markdown\" or \"Raw NBConvert.\" You can do this as muh as you need to change the type of cell. \n",
    "\n",
    "Another way you can do it is by pressing escape key and \"y\" (to make a markdown cell a coding cell), or escape key and \"m\" (if you want a markdown cell). "
   ]
  },
  {
   "cell_type": "markdown",
   "metadata": {},
   "source": [
    "#### 3. Describe what should you type, click, push, or where should you go if you need help? List four things:"
   ]
  },
  {
   "cell_type": "markdown",
   "metadata": {},
   "source": [
    "1. The first thing you can use for help is the \"Help\" button on the toolbar at the top of the notebook. \n",
    "2. Press escape, then h. (for shortcuts)\n",
    "3. Use a question mark at the end of a command (e.g. print?)\n",
    "4. Say \"help\" and a command to get information (e.g. help(print))"
   ]
  },
  {
   "cell_type": "markdown",
   "metadata": {},
   "source": [
    "#### 4. Describe how to restart your Jupyter Notebook kernel and clear your output."
   ]
  },
  {
   "cell_type": "markdown",
   "metadata": {
    "collapsed": true
   },
   "source": [
    "You can restart the Kernel by selecting the \"Kernel\" button on the toolbar. From there you click \"Restart & Clear Output.\""
   ]
  },
  {
   "cell_type": "markdown",
   "metadata": {},
   "source": [
    "#### 5. Describe how you properly save and quit a Jupiter Notebook."
   ]
  },
  {
   "cell_type": "markdown",
   "metadata": {},
   "source": [
    "To save your work, you select the floppy disk button on the toolbar on the top left corner of the notebook. \n",
    "\n",
    "To quit a notebook, you can exit out the page after saving or click on the logout button. "
   ]
  },
  {
   "cell_type": "markdown",
   "metadata": {},
   "source": [
    "#### 6. Describe what the `%history` function does."
   ]
  },
  {
   "cell_type": "markdown",
   "metadata": {
    "collapsed": true
   },
   "source": [
    "%history shows you what a cell has printed/used."
   ]
  },
  {
   "cell_type": "markdown",
   "metadata": {},
   "source": [
    "#### 7. Describe the three-piece recipe for variable definition:  "
   ]
  },
  {
   "cell_type": "markdown",
   "metadata": {},
   "source": [
    "1. The name of the variable\n",
    "2. Equal sign (=)\n",
    "3. Definition/Data you are using for that variable name\n"
   ]
  },
  {
   "cell_type": "markdown",
   "metadata": {},
   "source": [
    "#### 8. Define function, argument, and method:"
   ]
  },
  {
   "cell_type": "markdown",
   "metadata": {
    "collapsed": true
   },
   "source": [
    "Functons are the actions you perform.\n",
    "\n",
    "Arguments are the data you're using (usually within parentheses) in the functions.\n",
    "\n",
    "Methods are type-specific functions."
   ]
  },
  {
   "cell_type": "markdown",
   "metadata": {},
   "source": [
    "#### 9. Define string, float, integer, and logical data types:"
   ]
  },
  {
   "cell_type": "markdown",
   "metadata": {},
   "source": [
    "Strings are text and character data, which are alwways put within parentheses.\n",
    "\n",
    "Floats are decimals. \n",
    "\n",
    "Integers are whole numbers (numerical data).\n",
    "\n",
    "Logical data types are true/false data. "
   ]
  },
  {
   "cell_type": "markdown",
   "metadata": {},
   "source": [
    "# Section 2: Variable assignment, types, conversion, and indexing\n",
    "****"
   ]
  },
  {
   "cell_type": "markdown",
   "metadata": {},
   "source": [
    "#### 10. Define a string variable named person that contains the name \"Isabel Allende\". Print its output."
   ]
  },
  {
   "cell_type": "code",
   "execution_count": 2,
   "metadata": {},
   "outputs": [
    {
     "name": "stdout",
     "output_type": "stream",
     "text": [
      "Isabel Allende\n"
     ]
    }
   ],
   "source": [
    "person = \"Isabel Allende\"\n",
    "print(person)"
   ]
  },
  {
   "cell_type": "markdown",
   "metadata": {},
   "source": [
    "#### 11. Index `person` so that just the first character is printed."
   ]
  },
  {
   "cell_type": "code",
   "execution_count": 3,
   "metadata": {},
   "outputs": [
    {
     "data": {
      "text/plain": [
       "'I'"
      ]
     },
     "execution_count": 3,
     "metadata": {},
     "output_type": "execute_result"
    }
   ],
   "source": [
    "person[0]"
   ]
  },
  {
   "cell_type": "markdown",
   "metadata": {},
   "source": [
    "#### 12. Slice `person` so that just the fifth through the eighth characters are printed. "
   ]
  },
  {
   "cell_type": "code",
   "execution_count": 6,
   "metadata": {},
   "outputs": [
    {
     "data": {
      "text/plain": [
       "'el A'"
      ]
     },
     "execution_count": 6,
     "metadata": {},
     "output_type": "execute_result"
    }
   ],
   "source": [
    "person[4:8]"
   ]
  },
  {
   "cell_type": "markdown",
   "metadata": {},
   "source": [
    "#### 13. Slice `person` so that every third character is printed, starting with the first character. (HINT: use a stride in your slice!)"
   ]
  },
  {
   "cell_type": "code",
   "execution_count": 8,
   "metadata": {},
   "outputs": [
    {
     "data": {
      "text/plain": [
       "'alln'"
      ]
     },
     "execution_count": 8,
     "metadata": {},
     "output_type": "execute_result"
    }
   ],
   "source": [
    "person[2:14:3]"
   ]
  },
  {
   "cell_type": "markdown",
   "metadata": {},
   "source": [
    "#### 14. Use a string method to turn the string `person` into a list containing her first and last name."
   ]
  },
  {
   "cell_type": "code",
   "execution_count": 5,
   "metadata": {},
   "outputs": [
    {
     "data": {
      "text/plain": [
       "['Isabel', 'Allende']"
      ]
     },
     "execution_count": 5,
     "metadata": {},
     "output_type": "execute_result"
    }
   ],
   "source": [
    "person = \"Isabel Allende\"\n",
    "person_list = person.split()\n",
    "person_list\n"
   ]
  },
  {
   "cell_type": "markdown",
   "metadata": {},
   "source": [
    "#### 15. Use a string method to turn the string `person` into a list containing her first and last name, but then index just the first name. "
   ]
  },
  {
   "cell_type": "code",
   "execution_count": 4,
   "metadata": {},
   "outputs": [
    {
     "data": {
      "text/plain": [
       "'Isabel'"
      ]
     },
     "execution_count": 4,
     "metadata": {},
     "output_type": "execute_result"
    }
   ],
   "source": [
    "person = \"Isabel Allende\"\n",
    "\n",
    "x = person.split()\n",
    "\n",
    "x[0]"
   ]
  },
  {
   "cell_type": "markdown",
   "metadata": {},
   "source": [
    "#### 16. Define two float variables, print their outputs, and print their types."
   ]
  },
  {
   "cell_type": "code",
   "execution_count": 16,
   "metadata": {},
   "outputs": [
    {
     "name": "stdout",
     "output_type": "stream",
     "text": [
      "0.125\n",
      "0.5\n",
      "<class 'float'>\n",
      "<class 'float'>\n"
     ]
    }
   ],
   "source": [
    "x = 1/8\n",
    "y = 0.5\n",
    "print(x)\n",
    "print(y)\n",
    "print(type(x))\n",
    "print(type(y))"
   ]
  },
  {
   "cell_type": "markdown",
   "metadata": {},
   "source": [
    "#### 17. Define two integer variables, print their outputs, and print their types."
   ]
  },
  {
   "cell_type": "code",
   "execution_count": 18,
   "metadata": {},
   "outputs": [
    {
     "name": "stdout",
     "output_type": "stream",
     "text": [
      "2\n",
      "3\n",
      "<class 'int'>\n",
      "<class 'int'>\n"
     ]
    }
   ],
   "source": [
    "a = 2\n",
    "b = 3\n",
    "print(a)\n",
    "print(b)\n",
    "print(type(a))\n",
    "print(type(b))"
   ]
  },
  {
   "cell_type": "markdown",
   "metadata": {},
   "source": [
    "#### 18. Sum your two float variables and divide them by the sum of the two integer variables. Call this variable `division`, print its output, and print its type. "
   ]
  },
  {
   "cell_type": "code",
   "execution_count": 22,
   "metadata": {},
   "outputs": [
    {
     "name": "stdout",
     "output_type": "stream",
     "text": [
      "0.125\n"
     ]
    }
   ],
   "source": [
    "division = (x+y)/(a+b) \n",
    "print(division)"
   ]
  },
  {
   "cell_type": "markdown",
   "metadata": {},
   "source": [
    "#### 19. Convert both of your floats to strings. Assign these two outputs to two new variables named `string1` and `string1`. Print them both, and print the type for both."
   ]
  },
  {
   "cell_type": "code",
   "execution_count": 23,
   "metadata": {},
   "outputs": [
    {
     "name": "stdout",
     "output_type": "stream",
     "text": [
      "0.125\n",
      "0.5\n",
      "<class 'str'>\n",
      "<class 'str'>\n"
     ]
    }
   ],
   "source": [
    "string1 = str(x)\n",
    "string2 = str(y)\n",
    "print(string1)\n",
    "print(string2)\n",
    "print(type(string1))\n",
    "print(type(string2))"
   ]
  },
  {
   "cell_type": "markdown",
   "metadata": {},
   "source": [
    "#### 20. Add your two floats from Question # 16 above. "
   ]
  },
  {
   "cell_type": "code",
   "execution_count": 24,
   "metadata": {},
   "outputs": [
    {
     "name": "stdout",
     "output_type": "stream",
     "text": [
      "0.625\n"
     ]
    }
   ],
   "source": [
    "print(x + y)"
   ]
  },
  {
   "cell_type": "markdown",
   "metadata": {},
   "source": [
    "#### 21. Add `string1` and `string2` from Question # 19 above."
   ]
  },
  {
   "cell_type": "code",
   "execution_count": 26,
   "metadata": {},
   "outputs": [
    {
     "name": "stdout",
     "output_type": "stream",
     "text": [
      "1/80.5\n"
     ]
    }
   ],
   "source": [
    "print (\"1/8\" + \"0.5\")"
   ]
  },
  {
   "cell_type": "markdown",
   "metadata": {},
   "source": [
    "#### 22. What is the difference between integer addition and string division? "
   ]
  },
  {
   "cell_type": "markdown",
   "metadata": {},
   "source": [
    "Integer addition adds the numerical values. String addition places the two strings side by side."
   ]
  },
  {
   "cell_type": "markdown",
   "metadata": {},
   "source": [
    "#### 23. Define and print three variables:\n",
    "\n",
    "a. A string named `major` that contains your major. Print it. \n",
    "\n",
    "b. A string named `dream_job` that contains your dream job. Print it.\n",
    "\n",
    "c. An integer named `years` that contains the number of years until you are working at your dream job. Print it. "
   ]
  },
  {
   "cell_type": "code",
   "execution_count": 28,
   "metadata": {},
   "outputs": [
    {
     "name": "stdout",
     "output_type": "stream",
     "text": [
      "Linguistics\n",
      "Speech Pathologist\n",
      "5\n"
     ]
    }
   ],
   "source": [
    "major = \"Linguistics\"\n",
    "print(major)\n",
    "dream_job = \"Speech Pathologist\"\n",
    "print(dream_job)\n",
    "years = 5\n",
    "print(years)"
   ]
  },
  {
   "cell_type": "markdown",
   "metadata": {},
   "source": [
    "#### 24. Print a statement that returns the following text: \n",
    "\n",
    "My major is `major` and my goal is to work at `dream_job` in `years` years. "
   ]
  },
  {
   "cell_type": "code",
   "execution_count": 29,
   "metadata": {},
   "outputs": [
    {
     "name": "stdout",
     "output_type": "stream",
     "text": [
      "My major is  Linguistics and my goal is to work at  Speech Pathologist in 5 years.\n"
     ]
    }
   ],
   "source": [
    "print(\"My major is \", major, \"and my goal is to work at \", dream_job, \"in\", years, \"years.\")"
   ]
  },
  {
   "cell_type": "markdown",
   "metadata": {},
   "source": [
    "# Section 3: Lists\n",
    "****"
   ]
  },
  {
   "cell_type": "markdown",
   "metadata": {},
   "source": [
    "#### 25. Define and print a list named `random_list` that contains the following elements: 27, 3.14, \"Apple\", and \"Pineapple\". Print it and print its type. "
   ]
  },
  {
   "cell_type": "code",
   "execution_count": 32,
   "metadata": {},
   "outputs": [
    {
     "name": "stdout",
     "output_type": "stream",
     "text": [
      "[27, 3.14, 'Apple', 'Pineapple']\n",
      "<class 'list'>\n"
     ]
    }
   ],
   "source": [
    "random_list = [27, 3.14, \"Apple\", \"Pineapple\"]\n",
    "print(random_list)\n",
    "print(type(random_list))"
   ]
  },
  {
   "cell_type": "markdown",
   "metadata": {},
   "source": [
    "#### 26. Index `random_list` so just 3.14 is returned."
   ]
  },
  {
   "cell_type": "code",
   "execution_count": 36,
   "metadata": {},
   "outputs": [
    {
     "name": "stdout",
     "output_type": "stream",
     "text": [
      "3.14\n"
     ]
    }
   ],
   "source": [
    "print(random_list[1])"
   ]
  },
  {
   "cell_type": "markdown",
   "metadata": {},
   "source": [
    "#### 27. Slice `random_list` so 3.14 *and* Pineapple are returned. (HINT: use a stride in your slice!)"
   ]
  },
  {
   "cell_type": "code",
   "execution_count": 38,
   "metadata": {},
   "outputs": [
    {
     "name": "stdout",
     "output_type": "stream",
     "text": [
      "[3.14, 'Pineapple']\n"
     ]
    }
   ],
   "source": [
    "print(random_list[1:4:2])"
   ]
  },
  {
   "cell_type": "markdown",
   "metadata": {},
   "source": [
    "#### 28. Define a string named `college` that contains the string \"UC Berkeley\". Print it."
   ]
  },
  {
   "cell_type": "code",
   "execution_count": 39,
   "metadata": {},
   "outputs": [
    {
     "name": "stdout",
     "output_type": "stream",
     "text": [
      "UC Berkeley\n"
     ]
    }
   ],
   "source": [
    "college = \"UC Berkeley\"\n",
    "print(college)"
   ]
  },
  {
   "cell_type": "markdown",
   "metadata": {},
   "source": [
    "#### 29. Use the `.append` method on `random_list` to add the text inside the variable `college` (\"UC Berkeley\") to `random_list`. Print it.\n",
    "\n",
    "> HINT: If this starts to get messy, go back to Question # 25 and re-define `random_list` to clean up. \n",
    "\n",
    "Your final output should look like this: `[27, 3.14, 'Apple', 'Pineapple', 'UC Berkeley']`"
   ]
  },
  {
   "cell_type": "code",
   "execution_count": 44,
   "metadata": {},
   "outputs": [
    {
     "name": "stdout",
     "output_type": "stream",
     "text": [
      "[27, 3.14, 'Apple', 'Pineapple', 'UC Berkeley']\n"
     ]
    }
   ],
   "source": [
    "random_list.append(college)\n",
    "print(random_list)"
   ]
  },
  {
   "cell_type": "markdown",
   "metadata": {},
   "source": [
    "# Section 4: Dictionaries\n",
    "****"
   ]
  },
  {
   "cell_type": "markdown",
   "metadata": {},
   "source": [
    "#### 30. Define a dictionary named `dairy` that contains two key:value pairs. The keys should be named \"Yogurt\" and \"Milk\", and the two values should be 9.99 and 4.99."
   ]
  },
  {
   "cell_type": "code",
   "execution_count": 47,
   "metadata": {},
   "outputs": [],
   "source": [
    "dairy = {\"Yogurt\" : 9.99, \"Milk\" : 4.99}"
   ]
  },
  {
   "cell_type": "markdown",
   "metadata": {},
   "source": [
    "#### 31. Define a dictionary named `butcher` that contains two key:value pairs. The keys should be named \"Meat\" and \"Fish\", and the two values should be 19.99 and 17.99."
   ]
  },
  {
   "cell_type": "code",
   "execution_count": 48,
   "metadata": {},
   "outputs": [],
   "source": [
    "butcher = {\"Meat\":19.99, \"Fish\": 17.99}"
   ]
  },
  {
   "cell_type": "markdown",
   "metadata": {},
   "source": [
    "#### 32. Define a dictionary named `produce` that contains two key:value pairs. The keys should be named \"Tomato\" and \"Onion\", and the two values should be 2.99 and 1.99."
   ]
  },
  {
   "cell_type": "code",
   "execution_count": 49,
   "metadata": {},
   "outputs": [],
   "source": [
    "produce = {\"Tomato\":2.99, \"Onion\":1.99}"
   ]
  },
  {
   "cell_type": "markdown",
   "metadata": {},
   "source": [
    "#### 33. Define a dictionary named `bakery` that contains two key:value pairs. The keys should be named \"Baguette\" and \"Cake\", and the two values should be 5.99 and 11.99."
   ]
  },
  {
   "cell_type": "code",
   "execution_count": 50,
   "metadata": {},
   "outputs": [],
   "source": [
    "bakery = {\"Baguette\":5.99, \"Cake\":11.99}"
   ]
  },
  {
   "cell_type": "markdown",
   "metadata": {},
   "source": [
    "#### 34. Define a dictionary named `market` that contains the dictionaries `dairy`, `butcher`, `produce`, and `bakery`."
   ]
  },
  {
   "cell_type": "code",
   "execution_count": 53,
   "metadata": {},
   "outputs": [],
   "source": [
    "market = {\"Dairy\":dairy, \"Butcher\":butcher, \"Produce\":produce, \"Bakery\":bakery}"
   ]
  },
  {
   "cell_type": "markdown",
   "metadata": {},
   "source": [
    "#### 35. Index just the price for Cake (11.99)"
   ]
  },
  {
   "cell_type": "code",
   "execution_count": 68,
   "metadata": {},
   "outputs": [
    {
     "name": "stdout",
     "output_type": "stream",
     "text": [
      "11.99\n"
     ]
    }
   ],
   "source": [
    "print(market[\"Bakery\"][\"Cake\"])"
   ]
  },
  {
   "cell_type": "markdown",
   "metadata": {},
   "source": [
    "#### 36. Index the price for Cake (11.99) and for Onion (1.99)"
   ]
  },
  {
   "cell_type": "code",
   "execution_count": 69,
   "metadata": {},
   "outputs": [
    {
     "name": "stdout",
     "output_type": "stream",
     "text": [
      "11.99 1.99\n"
     ]
    }
   ],
   "source": [
    "print(market[\"Bakery\"][\"Cake\"], market[\"Produce\"][\"Onion\"])"
   ]
  },
  {
   "cell_type": "markdown",
   "metadata": {
    "collapsed": true
   },
   "source": [
    "# Section 5: Pandas\n",
    "****"
   ]
  },
  {
   "cell_type": "markdown",
   "metadata": {},
   "source": [
    "#### 37. Type the code to install the pandas library from inside a Jupyter Notebook."
   ]
  },
  {
   "cell_type": "code",
   "execution_count": 59,
   "metadata": {},
   "outputs": [
    {
     "name": "stdout",
     "output_type": "stream",
     "text": [
      "Requirement already satisfied: pandas in c:\\users\\valerie\\anaconda3\\lib\\site-packages (0.24.2)\n",
      "Requirement already satisfied: numpy>=1.12.0 in c:\\users\\valerie\\anaconda3\\lib\\site-packages (from pandas) (1.16.2)\n",
      "Requirement already satisfied: pytz>=2011k in c:\\users\\valerie\\anaconda3\\lib\\site-packages (from pandas) (2018.9)\n",
      "Requirement already satisfied: python-dateutil>=2.5.0 in c:\\users\\valerie\\anaconda3\\lib\\site-packages (from pandas) (2.8.0)\n",
      "Requirement already satisfied: six>=1.5 in c:\\users\\valerie\\anaconda3\\lib\\site-packages (from python-dateutil>=2.5.0->pandas) (1.12.0)\n"
     ]
    }
   ],
   "source": [
    "!pip install pandas"
   ]
  },
  {
   "cell_type": "markdown",
   "metadata": {
    "collapsed": true
   },
   "source": [
    "#### 38. Type the code to import the pandas library as the alias pd"
   ]
  },
  {
   "cell_type": "code",
   "execution_count": 60,
   "metadata": {},
   "outputs": [],
   "source": [
    "import pandas as pd"
   ]
  },
  {
   "cell_type": "markdown",
   "metadata": {
    "collapsed": true
   },
   "source": [
    "#### 39. Type code to get help with pandas."
   ]
  },
  {
   "cell_type": "code",
   "execution_count": 63,
   "metadata": {},
   "outputs": [
    {
     "name": "stdout",
     "output_type": "stream",
     "text": [
      "Help on package pandas:\n",
      "\n",
      "NAME\n",
      "    pandas\n",
      "\n",
      "DESCRIPTION\n",
      "    pandas - a powerful data analysis and manipulation library for Python\n",
      "    =====================================================================\n",
      "    \n",
      "    **pandas** is a Python package providing fast, flexible, and expressive data\n",
      "    structures designed to make working with \"relational\" or \"labeled\" data both\n",
      "    easy and intuitive. It aims to be the fundamental high-level building block for\n",
      "    doing practical, **real world** data analysis in Python. Additionally, it has\n",
      "    the broader goal of becoming **the most powerful and flexible open source data\n",
      "    analysis / manipulation tool available in any language**. It is already well on\n",
      "    its way toward this goal.\n",
      "    \n",
      "    Main Features\n",
      "    -------------\n",
      "    Here are just a few of the things that pandas does well:\n",
      "    \n",
      "      - Easy handling of missing data in floating point as well as non-floating\n",
      "        point data.\n",
      "      - Size mutability: columns can be inserted and deleted from DataFrame and\n",
      "        higher dimensional objects\n",
      "      - Automatic and explicit data alignment: objects can be explicitly aligned\n",
      "        to a set of labels, or the user can simply ignore the labels and let\n",
      "        `Series`, `DataFrame`, etc. automatically align the data for you in\n",
      "        computations.\n",
      "      - Powerful, flexible group by functionality to perform split-apply-combine\n",
      "        operations on data sets, for both aggregating and transforming data.\n",
      "      - Make it easy to convert ragged, differently-indexed data in other Python\n",
      "        and NumPy data structures into DataFrame objects.\n",
      "      - Intelligent label-based slicing, fancy indexing, and subsetting of large\n",
      "        data sets.\n",
      "      - Intuitive merging and joining data sets.\n",
      "      - Flexible reshaping and pivoting of data sets.\n",
      "      - Hierarchical labeling of axes (possible to have multiple labels per tick).\n",
      "      - Robust IO tools for loading data from flat files (CSV and delimited),\n",
      "        Excel files, databases, and saving/loading data from the ultrafast HDF5\n",
      "        format.\n",
      "      - Time series-specific functionality: date range generation and frequency\n",
      "        conversion, moving window statistics, moving window linear regressions,\n",
      "        date shifting and lagging, etc.\n",
      "\n",
      "PACKAGE CONTENTS\n",
      "    _libs (package)\n",
      "    _version\n",
      "    api (package)\n",
      "    arrays (package)\n",
      "    compat (package)\n",
      "    conftest\n",
      "    core (package)\n",
      "    errors (package)\n",
      "    io (package)\n",
      "    plotting (package)\n",
      "    testing\n",
      "    tests (package)\n",
      "    tseries (package)\n",
      "    util (package)\n",
      "\n",
      "SUBMODULES\n",
      "    _hashtable\n",
      "    _lib\n",
      "    _tslib\n",
      "    offsets\n",
      "\n",
      "DATA\n",
      "    IndexSlice = <pandas.core.indexing._IndexSlice object>\n",
      "    NaT = NaT\n",
      "    __docformat__ = 'restructuredtext'\n",
      "    __git_version__ = 'cb00deb94500205fcb27a33cc1d0df79a9727f8b'\n",
      "    describe_option = <pandas.core.config.CallableDynamicDoc object>\n",
      "    get_option = <pandas.core.config.CallableDynamicDoc object>\n",
      "    options = <pandas.core.config.DictWrapper object>\n",
      "    reset_option = <pandas.core.config.CallableDynamicDoc object>\n",
      "    set_option = <pandas.core.config.CallableDynamicDoc object>\n",
      "\n",
      "VERSION\n",
      "    0.24.2\n",
      "\n",
      "FILE\n",
      "    c:\\users\\valerie\\anaconda3\\lib\\site-packages\\pandas\\__init__.py\n",
      "\n",
      "\n"
     ]
    }
   ],
   "source": [
    "help(pd)"
   ]
  },
  {
   "cell_type": "markdown",
   "metadata": {},
   "source": [
    "#### 40. Use a dictionary to create a DataFrame in a variable named `example`. The final output should look like this:\n",
    "<img src=\"df.png\">"
   ]
  },
  {
   "cell_type": "code",
   "execution_count": 133,
   "metadata": {},
   "outputs": [
    {
     "name": "stdout",
     "output_type": "stream",
     "text": [
      "    A   B\n",
      "0   1   4\n",
      "1   4   8\n",
      "2   9  23\n",
      "3  23  25\n"
     ]
    }
   ],
   "source": [
    "AB = {\"A\": [1,4,9,23], \n",
    "        \"B\": [4,8,23,25]}\n",
    "\n",
    "example = pd.DataFrame(AB)\n",
    "print(example)"
   ]
  },
  {
   "cell_type": "markdown",
   "metadata": {},
   "source": [
    "#### 41. Load the `gapminder.tsv` file from the Week2 data folder. Save it in a variable named `gap`. Use the `.head` method to print the first 7 rows. "
   ]
  },
  {
   "cell_type": "code",
   "execution_count": 72,
   "metadata": {},
   "outputs": [
    {
     "data": {
      "text/html": [
       "<div>\n",
       "<style scoped>\n",
       "    .dataframe tbody tr th:only-of-type {\n",
       "        vertical-align: middle;\n",
       "    }\n",
       "\n",
       "    .dataframe tbody tr th {\n",
       "        vertical-align: top;\n",
       "    }\n",
       "\n",
       "    .dataframe thead th {\n",
       "        text-align: right;\n",
       "    }\n",
       "</style>\n",
       "<table border=\"1\" class=\"dataframe\">\n",
       "  <thead>\n",
       "    <tr style=\"text-align: right;\">\n",
       "      <th></th>\n",
       "      <th>country</th>\n",
       "      <th>continent</th>\n",
       "      <th>year</th>\n",
       "      <th>lifeExp</th>\n",
       "      <th>pop</th>\n",
       "      <th>gdpPercap</th>\n",
       "    </tr>\n",
       "  </thead>\n",
       "  <tbody>\n",
       "    <tr>\n",
       "      <th>0</th>\n",
       "      <td>Afghanistan</td>\n",
       "      <td>Asia</td>\n",
       "      <td>1952</td>\n",
       "      <td>28.801</td>\n",
       "      <td>8425333.0</td>\n",
       "      <td>779.445314</td>\n",
       "    </tr>\n",
       "    <tr>\n",
       "      <th>1</th>\n",
       "      <td>Afghanistan</td>\n",
       "      <td>Asia</td>\n",
       "      <td>1957</td>\n",
       "      <td>30.332</td>\n",
       "      <td>9240934.0</td>\n",
       "      <td>820.853030</td>\n",
       "    </tr>\n",
       "    <tr>\n",
       "      <th>2</th>\n",
       "      <td>Afghanistan</td>\n",
       "      <td>Asia</td>\n",
       "      <td>1962</td>\n",
       "      <td>31.997</td>\n",
       "      <td>10267083.0</td>\n",
       "      <td>853.100710</td>\n",
       "    </tr>\n",
       "    <tr>\n",
       "      <th>3</th>\n",
       "      <td>Afghanistan</td>\n",
       "      <td>Asia</td>\n",
       "      <td>1967</td>\n",
       "      <td>34.020</td>\n",
       "      <td>11537966.0</td>\n",
       "      <td>836.197138</td>\n",
       "    </tr>\n",
       "    <tr>\n",
       "      <th>4</th>\n",
       "      <td>Afghanistan</td>\n",
       "      <td>Asia</td>\n",
       "      <td>1972</td>\n",
       "      <td>36.088</td>\n",
       "      <td>13079460.0</td>\n",
       "      <td>739.981106</td>\n",
       "    </tr>\n",
       "  </tbody>\n",
       "</table>\n",
       "</div>"
      ],
      "text/plain": [
       "       country continent  year  lifeExp         pop   gdpPercap\n",
       "0  Afghanistan      Asia  1952   28.801   8425333.0  779.445314\n",
       "1  Afghanistan      Asia  1957   30.332   9240934.0  820.853030\n",
       "2  Afghanistan      Asia  1962   31.997  10267083.0  853.100710\n",
       "3  Afghanistan      Asia  1967   34.020  11537966.0  836.197138\n",
       "4  Afghanistan      Asia  1972   36.088  13079460.0  739.981106"
      ]
     },
     "execution_count": 72,
     "metadata": {},
     "output_type": "execute_result"
    }
   ],
   "source": [
    "gap = pd.read_csv('../Desktop/DIGHUM101-20199/Week2/data/gapminder.tsv', sep = \"\\t\")\n",
    "gap.head()"
   ]
  },
  {
   "cell_type": "markdown",
   "metadata": {
    "collapsed": true
   },
   "source": [
    "#### 42. Subset `gap` to create a subsetted dataframe named `usa` that contains only data where the \"country\" column is equal to \"United States\". Print it."
   ]
  },
  {
   "cell_type": "code",
   "execution_count": 75,
   "metadata": {},
   "outputs": [
    {
     "name": "stdout",
     "output_type": "stream",
     "text": [
      "            country continent  year  lifeExp          pop    gdpPercap\n",
      "1608  United States  Americas  1952   68.440  157553000.0  13990.48208\n",
      "1609  United States  Americas  1957   69.490  171984000.0  14847.12712\n",
      "1610  United States  Americas  1962   70.210  186538000.0  16173.14586\n",
      "1611  United States  Americas  1967   70.760  198712000.0  19530.36557\n",
      "1612  United States  Americas  1972   71.340  209896000.0  21806.03594\n",
      "1613  United States  Americas  1977   73.380  220239000.0  24072.63213\n",
      "1614  United States  Americas  1982   74.650  232187835.0  25009.55914\n",
      "1615  United States  Americas  1987   75.020  242803533.0  29884.35041\n",
      "1616  United States  Americas  1992   76.090  256894189.0  32003.93224\n",
      "1617  United States  Americas  1997   76.810  272911760.0  35767.43303\n",
      "1618  United States  Americas  2002   77.310  287675526.0  39097.09955\n",
      "1619  United States  Americas  2007   78.242  301139947.0  42951.65309\n"
     ]
    }
   ],
   "source": [
    "usa = gap[gap[\"country\"] == \"United States\"]\n",
    "print(usa)"
   ]
  },
  {
   "cell_type": "markdown",
   "metadata": {},
   "source": [
    "#### 43. Subset `gap` to create a subsetted dataframe named `mexico` that contains only data where the \"country\" column is equal to \"Mexico\". Print it."
   ]
  },
  {
   "cell_type": "code",
   "execution_count": 76,
   "metadata": {},
   "outputs": [
    {
     "name": "stdout",
     "output_type": "stream",
     "text": [
      "    country continent  year  lifeExp          pop     gdpPercap\n",
      "984  Mexico  Americas  1952   50.789   30144317.0   3478.125529\n",
      "985  Mexico  Americas  1957   55.190   35015548.0   4131.546641\n",
      "986  Mexico  Americas  1962   58.299   41121485.0   4581.609385\n",
      "987  Mexico  Americas  1967   60.110   47995559.0   5754.733883\n",
      "988  Mexico  Americas  1972   62.361   55984294.0   6809.406690\n",
      "989  Mexico  Americas  1977   65.032   63759976.0   7674.929108\n",
      "990  Mexico  Americas  1982   67.405   71640904.0   9611.147541\n",
      "991  Mexico  Americas  1987   69.498   80122492.0   8688.156003\n",
      "992  Mexico  Americas  1992   71.455   88111030.0   9472.384295\n",
      "993  Mexico  Americas  1997   73.670   95895146.0   9767.297530\n",
      "994  Mexico  Americas  2002   74.902  102479927.0  10742.440530\n",
      "995  Mexico  Americas  2007   76.195  108700891.0  11977.574960\n"
     ]
    }
   ],
   "source": [
    "mexico = gap[gap[\"country\"] == \"Mexico\"]\n",
    "print(mexico)"
   ]
  },
  {
   "cell_type": "markdown",
   "metadata": {},
   "source": [
    "#### 44. Subset `gap` to create a subsetted dataframe named `canada` that contains only data where the \"country\" column is equal to \"Canada\". Print it."
   ]
  },
  {
   "cell_type": "code",
   "execution_count": 77,
   "metadata": {},
   "outputs": [
    {
     "name": "stdout",
     "output_type": "stream",
     "text": [
      "    country continent  year  lifeExp         pop    gdpPercap\n",
      "240  Canada  Americas  1952   68.750  14785584.0  11367.16112\n",
      "241  Canada  Americas  1957   69.960  17010154.0  12489.95006\n",
      "242  Canada  Americas  1962   71.300  18985849.0  13462.48555\n",
      "243  Canada  Americas  1967   72.130  20819767.0  16076.58803\n",
      "244  Canada  Americas  1972   72.880  22284500.0  18970.57086\n",
      "245  Canada  Americas  1977   74.210  23796400.0  22090.88306\n",
      "246  Canada  Americas  1982   75.760  25201900.0  22898.79214\n",
      "247  Canada  Americas  1987   76.860  26549700.0  26626.51503\n",
      "248  Canada  Americas  1992   77.950  28523502.0  26342.88426\n",
      "249  Canada  Americas  1997   78.610  30305843.0  28954.92589\n",
      "250  Canada  Americas  2002   79.770  31902268.0  33328.96507\n",
      "251  Canada  Americas  2007   80.653  33390141.0  36319.23501\n"
     ]
    }
   ],
   "source": [
    "canada = gap[gap[\"country\"] == \"Canada\"]\n",
    "print(canada)"
   ]
  },
  {
   "cell_type": "markdown",
   "metadata": {},
   "source": [
    "#### 45. Type the code to install matplotlib"
   ]
  },
  {
   "cell_type": "code",
   "execution_count": 78,
   "metadata": {},
   "outputs": [
    {
     "name": "stdout",
     "output_type": "stream",
     "text": [
      "Requirement already satisfied: matplotlib in c:\\users\\valerie\\anaconda3\\lib\\site-packages (3.0.3)\n",
      "Requirement already satisfied: numpy>=1.10.0 in c:\\users\\valerie\\anaconda3\\lib\\site-packages (from matplotlib) (1.16.2)\n",
      "Requirement already satisfied: cycler>=0.10 in c:\\users\\valerie\\anaconda3\\lib\\site-packages (from matplotlib) (0.10.0)\n",
      "Requirement already satisfied: kiwisolver>=1.0.1 in c:\\users\\valerie\\anaconda3\\lib\\site-packages (from matplotlib) (1.0.1)\n",
      "Requirement already satisfied: pyparsing!=2.0.4,!=2.1.2,!=2.1.6,>=2.0.1 in c:\\users\\valerie\\anaconda3\\lib\\site-packages (from matplotlib) (2.3.1)\n",
      "Requirement already satisfied: python-dateutil>=2.1 in c:\\users\\valerie\\anaconda3\\lib\\site-packages (from matplotlib) (2.8.0)\n",
      "Requirement already satisfied: six in c:\\users\\valerie\\anaconda3\\lib\\site-packages (from cycler>=0.10->matplotlib) (1.12.0)\n",
      "Requirement already satisfied: setuptools in c:\\users\\valerie\\anaconda3\\lib\\site-packages (from kiwisolver>=1.0.1->matplotlib) (40.8.0)\n"
     ]
    }
   ],
   "source": [
    "!pip install matplotlib"
   ]
  },
  {
   "cell_type": "markdown",
   "metadata": {},
   "source": [
    "#### 46. Type the code to import the pyplot matplotlib module as the alias plt"
   ]
  },
  {
   "cell_type": "code",
   "execution_count": 79,
   "metadata": {},
   "outputs": [],
   "source": [
    "import matplotlib.pyplot as plt"
   ]
  },
  {
   "cell_type": "markdown",
   "metadata": {},
   "source": [
    "#### 47. Create a line graph that contains lifeExp on the y-axis and year on the x-axis. You should have three lines, one for each country `usa`, `mexico`, and `canada`. Your final graph should look something like this: \n",
    "\n",
    "<img src=\"lines.png\">"
   ]
  },
  {
   "cell_type": "code",
   "execution_count": 134,
   "metadata": {},
   "outputs": [
    {
     "data": {
      "image/png": "[encoded data removed]",
      "text/plain": [
       "<Figure size 1080x360 with 1 Axes>"
      ]
     },
     "metadata": {
      "needs_background": "light"
     },
     "output_type": "display_data"
    }
   ],
   "source": [
    "plt.figure(figsize=(15,5))\n",
    "plt.plot(usa['year'], usa['lifeExp'], label = \"United States\")\n",
    "plt.plot(mexico['year'], mexico['lifeExp'], label = \"Mexico\")\n",
    "plt.plot(canada['year'], canada['lifeExp'], label='Canada')\n",
    "plt.title('LifeExp of United States, Canada, & Mexico')\n",
    "plt.xlabel('Time (Years)')\n",
    "plt.ylabel('Life Expectancy')\n",
    "plt.legend(loc = \"upper left\")\n",
    "plt.ticklabel_format(useOffset = False);"
   ]
  },
  {
   "cell_type": "markdown",
   "metadata": {},
   "source": [
    "# Section 6. Text preprocessing\n",
    "****"
   ]
  },
  {
   "cell_type": "markdown",
   "metadata": {},
   "source": [
    "#### 48. Load the \"fiji2014.txt\" file from the Week1 data folder. Save it in a variable named `fiji`"
   ]
  },
  {
   "cell_type": "code",
   "execution_count": 83,
   "metadata": {},
   "outputs": [],
   "source": [
    "fiji = open(\"../Desktop/DIGHUM101-20199/Week1/data/fiji2014.txt\", encoding = \"utf-8\").read()"
   ]
  },
  {
   "cell_type": "markdown",
   "metadata": {},
   "source": [
    "#### 49. Import the punctuation module from the string library"
   ]
  },
  {
   "cell_type": "code",
   "execution_count": 85,
   "metadata": {},
   "outputs": [
    {
     "name": "stdout",
     "output_type": "stream",
     "text": [
      "[!]\n",
      "[\"]\n",
      "[#]\n",
      "[$]\n",
      "[%]\n",
      "[&]\n",
      "[']\n",
      "[(]\n",
      "[)]\n",
      "[*]\n",
      "[+]\n",
      "[,]\n",
      "[-]\n",
      "[.]\n",
      "[/]\n",
      "[:]\n",
      "[;]\n",
      "[<]\n",
      "[=]\n",
      "[>]\n",
      "[?]\n",
      "[@]\n",
      "[[]\n",
      "[\\]\n",
      "[]]\n",
      "[^]\n",
      "[_]\n",
      "[`]\n",
      "[{]\n",
      "[|]\n",
      "[}]\n",
      "[~]\n"
     ]
    }
   ],
   "source": [
    "import string\n",
    "\n",
    "# Display punctuation.\n",
    "for c in string.punctuation:\n",
    "    print(\"[\" + c + \"]\")"
   ]
  },
  {
   "cell_type": "markdown",
   "metadata": {},
   "source": [
    "#### 50. Remove the punctuation from `fiji`"
   ]
  },
  {
   "cell_type": "code",
   "execution_count": 86,
   "metadata": {},
   "outputs": [
    {
     "data": {
      "text/plain": [
       "' \\n United Nations \\n AHRC288 \\n \\n \\n\\n General Assembly \\n Distr General \\n17 December 2014 \\n \\nOriginal English \\n \\n\\nHuman Rights Council \\n\\nTwentyeighth session \\nAgenda item 6 \\nUniversal Periodic Review \\n  Report of the Working Group on the Universal Periodic Review \\n  The annex to the present report is circulated as received \\n  Fiji \\nContents \\n Paragraphs Page \\n  Introduction   1Ð4 3 \\n I Summary of the proceedings of the review process   5Ð98 3 \\n  A Presentation by the State under review   5Ð20 3 \\n  B Interactive dialogue and responses by the State under review   21Ð98 5 \\n II Conclusions andor recommendations   99Ð102 13 \\n Annex \\n  Composition of the delegation   24 \\n  Introduction \\n1 The Working Group on the Universal Periodic Review established in accordance with Human Rights Council resolution 51 of 18 June 2007 held its twentieth session from 27 October to 7 November 2014 The review of Fiji was held at the 5th meeting on 29 October 2014 The delegation of Fiji was headed by Aiyaz SayedKhaiyum AttorneyGeneral and Minister of Justice At its 10th meeting held on 31 October 2014 the Working Group adopted the report on Fiji \\n2 On 15 January 2014 the Human Rights Council selected the following group of rapporteurs troika to facilitate the review of Fiji Japan Namibia and the Russian Federation \\n3 In accordance with paragraph 15 of the annex to resolution 51 and paragraph 5 of the annex to resolution 1621 the following documents were issued for the review of Fiji \\na A national report submittedwritten presentation made in accordance with paragraph 15 a AHRCWG620FJI1  \\nb A compilation prepared by the Office of the United Nations High Commissioner for Human Rights OHCHR in accordance with paragraph 15 b AHRCWG620FJI2 \\nc A summary prepared by OHCHR in accordance with paragraph 15 c AHRCWG620FJI3  \\n4 A list of questions prepared in advance by Belgium Germany Liechtenstein Mexico Netherlands Slovenia Spain and the United Kingdom of Great Britain and Northern Ireland was transmitted to Fiji through the troika The questions are available on the extranet of the universal periodic review UPR \\n I Summary of the proceedings of the review process \\n A Presentation by the State under review \\n5 Opening statements by the Fijian delegation were made by the AttorneyGeneral and Minister for Justice the Chief Justice the Director of Public Prosecutions and the Chairman of the Media Industry Development Authority \\n6 The commitment of Fiji to promoting and protecting the fundamental principles and values of universal human rights set forth in the Universal Declaration of Human Rights had been affirmed in the Fijian Constitution adopted on 7 September 2013 The first Constitution in Fiji to eliminate the legal enforcement of ethnic voting and to include social and economic rights as well as civil and political rights it had created a transformative human rights normative framework for the people of Fiji Under the Constitution the State was legally obliged to protect and promote those rights \\n7 Fiji had held elections under the Constitution on 17 September 2014 with an 846 per cent participation rate of registered voters and a record low 075 per cent of invalid ballots In a preliminary statement the Multinational Observer Group had deemed the elections credible and representative of the will of the Fijian people \\n8 In addition to the human rights set forth in the core international human rights instruments Fiji urged the Human Rights Council to address emerging human rights issues \\nincluding transborder impacts of climate change asylum policies and consequences of free trade agreements on social and economic rights \\n9 In response to questions on the ratification of international human rights instruments from Belgium Mexico and the United Kingdom Fiji confirmed that it was not a party to the International Covenant on Civil and Political Rights the International Covenant on Economic Social and Cultural Rights or the Convention against Torture and Other Cruel Inhuman or Degrading Treatment or Punishment Nonetheless the robust Bill of Rights in the Constitution went beyond obligations under those instruments and placed an obligation on the State to promote and protect those rights for all Fijians Those rights were applied directly by the Fijian judiciary Approval of the ratification of those international instruments was the prerogative of Parliament \\n10 Fiji remained amenable to inviting special procedures mandate holders to visit the country However it was operating in an entirely new political social and legislative environment Fiji wanted to be in a position to ratify those instruments and have the resources to host and meet the standards of the mandate holders before inviting them \\n11 WomenÕs rights in Fiji were in line with the Convention on the Elimination of All Forms of Discrimination against Women CEDAW which Fiji had ratified in 1995 In response to questions from ten countries on steps taken to end discrimination and violence against women Fiji acknowledged the challenges posed by those issues New initiatives included updated provisions in the Crimes Decree for the offences of rape and sexual assault the passing and application of the Domestic Violence Decree judicial training a new National Gender Policy and gender training for civil servants Fiji corrected the claim made by the Netherlands that the Constitution did not protect women by listing the newly protected grounds in addition to sex and gender in the Bill of Rights which included gender identity and expression pregnancy and marital status and constituted broad protection from discrimination against women allowing for the legal expression of intersectional discrimination It was also clarified that the higher levels of reported cases of domestic violence about which concern had been raised in fact reflected higher reporting by victims owing to their confidence in the abovementioned initiatives \\n12 Those measures would only be meaningful if all stakeholders played their part in shaping societyÕs attitudes towards zero tolerance of discrimination and violence against women Training and participation by the police civil society the judiciary and prosecutors was also required It was important for civil society organizations to familiarize themselves with those laws and initiatives because they were empowered to represent women in the legal system under the Domestic Violence Decree \\n13 The Domestic Violence Decree did not establish domestic violence as an offence the charge would remain one of assault under the Crimes Decree However there were important provisions in the Domestic Violence Decree that could be used to protect women \\n14 Responding to questions from Belgium and Estonia on the International Criminal Court the delegation said that Fiji had been one of the first States to ratify the Rome Statute and it remained steadfastly committed to the International Criminal Court The countryÕs domestic legislation is in full complementarity with the provisions of the Rome Statute and domestic legislation through the Crimes Decree \\n15 Responding to questions from Ethiopia and Switzerland on rights visˆvis limitations in the Fijian Constitution Fiji explained that the burden was on the State to prove that the limitations were necessary The law must always promote the values that underlay a democratic society based on human dignity equality and freedom In addition section 7 of the Bill of Rights underpinning those democratic principles guided the courtsÕ interpretations and allowed them to consider international law in their decisions \\n16 Responding to questions about the abolition of the death penalty asked by France Germany and Namibia Fiji noted that it had abolished the death penalty in 2001 However it remained in the Military Code indirectly by virtue of the applicability of the Army Act 1955 of the United Kingdom Fiji announced that in the forthcoming session of Parliament the Military Code would be amended to remove the reference to the death penalty altogether \\n17 Responding to questions and recommendations from Germany New Zealand and the Republic of Korea on human rights abuses in particular alleged torture and illtreatment by the police Fiji explained that in cases in which complaints were made to the police and in which the Director of Public Prosecutions determined that there was sufficient evidence for prosecution the perpetrators had been prosecuted Indeed some were currently serving terms of imprisonment for such acts \\n18 The new legal framework of Fiji under the Constitution allowed steps to be taken to ensure that police procedures were modernized and made more transparent It was acknowledged that torture during interrogation had been a longstanding problem in Fiji owing to cultural misconceptions inherited from attitudes prevalent in Europe within living memory Therefore in order to avoid lengthy court proceedings to determine whether confessions and statements had been obtained under torture the judiciary had itself provided budgetary resources to launch a project under which all interviews of suspects in custody would be video recorded and would provide additional funds and training for the investigators That had been done in recognition of the fact that institutions must combine their resources in order to eliminate impropriety and violent treatment and to ensure a more efficient justice system \\n19 The police had also acknowledged deficiencies in police investigations and aspects of police culture that in the past had excused or ignored police brutality and that training was needed in the areas of domestic violence and interrogations Specialized organizations had been invited to cooperate with relevant Fijian agencies in the provision of such training so as to improve the human rights standing of the criminal justice system in Fiji In further response to concerns raised about assaults and brutality in police custody the delegation explained that in cases in which evidence had been obtained by means of assault by the police the prosecution would not continue and the matter would be referred to the Commissioner of Police for investigation and possible criminal charges against the officers Such cases had most recently resulted in the prosecution and conviction of three police officers who had been convicted of murder by joint enterprise and two who had been convicted of being accessories after the fact when a young man had died in police custody \\n20 The Fijian criminal justice system was explained with particular emphasis on the processes followed between the lodging of a criminal complaint and the decision on whether or not to proceed with the prosecution It was emphasized that the police were also independent of the Government and the Director of Public Prosecutions with regard to how police investigations were conducted and that the police could only act if a formal written complaint was made by a person including if the complaint was one of unfair treatment by the police  \\n B Interactive dialogue and responses by the State under review \\n21 During the interactive dialogue 54 delegations made statements Recommendations made during the dialogue can be found in section II of the present report \\n22 Venezuela Bolivarian Republic of commended efforts on social development poverty reduction the health service decent housing and the risk of natural disasters The \\nNational Policy on Persons Living with Disabilities and free primary and secondary education were noted It made recommendations \\n23 Algeria welcomed the Constitution establishing universal principles and the strengthened legal framework for human rights particularly regarding elections and political participation Policies addressing persons with disabilities and older persons and efforts to address living standards were appreciated Algeria made recommendations \\n24 Argentina offered its congratulations on the introduction of the National Gender Policy promoting gender equality social justice and sustainable development Argentina referred to its work with France and other countries on an international campaign to encourage ratification of the International Convention for the Protection of All Persons from Enforced Disappearance ICPPED and made recommendations \\n25 Australia welcomed the 2014 elections and the provisional recognition of their credibility from the Multinational Observer Group Australia noted the importance of supporting the democratic role of civil society and the media Australia commended the International Labour Organization ILO direct contacts mission and noted the continued need for close engagement with labour partners Australia made recommendations \\n26 Bangladesh noted progress despite the challenges faced and the vulnerability of Fiji to natural disasters highlighting the Constitution improvements in womenÕs and childrenÕs health and resources for education WomenÕs involvement in public life and decisionmaking and genderbased violence were reported areas of concern Bangladesh made recommendations \\n27 Belgium welcomed the introduction of electoral legislation and the revocation of the Public Emergency Regulations 2009 while recognizing ongoing human rights challenges The National Gender Policy was noted although genderbased violence was prevalent and the importance of freedom of expression and assembly were emphasized Belgium made recommendations \\n28 Brazil commended Fiji for the successful general elections and the appointment of women to ministerial and assistant ministerial positions It was concerned about restrictions on freedom of opinion and expression and the percentage of the population living below the poverty line Brazil made recommendations \\n29 Canada asked what steps were being taken to ensure full protection of the rights to freedom of expression opinion association and assembly It welcomed the news that women accounted for 16 per cent of the new Parliament and the election of a female Speaker of Parliament It made recommendations \\n30 Chile encouraged action to ensure the independence of the judiciary restrict the scope of emergency legislation guarantee freedom of expression and compensate victims of human rights violations It made recommendations \\n31 China commended Fiji for its commitment to gender equality and social justice the National Policy on Persons Living with Disabilities and the National Council for Older Persons It also commended the increase in investment aimed at guaranteeing free primary and secondary education It made a recommendation \\n32 Costa Rica encouraged speedier action to ratify core human rights instruments and urged Fiji to continue cooperating with treaty bodies and special procedures It welcomed the steps that were being taken to remove the death penalty from all legal instruments It made recommendations \\n33 Cuba commended the steps being taken by Fiji to meet the needs of persons with disabilities and to ensure access to free primary and secondary education Cuba urged the \\ninternational community to support national efforts for issues identified as priorities It made a recommendation \\n34 Denmark welcomed the new GovernmentÕs undertaking to ratify all core human rights instruments Noting that steps to ratify the Convention against Torture CAT were already under way it encouraged the Government to seek the assistance of the Convention against Torture Initiative Denmark made recommendations \\n35 Estonia noted that the drafting of the Constitution had not been allinclusive It urged Fiji to abolish decrees restricting media freedom put a stop to the intimidation and harassment of persons who criticized the State and ensure zero tolerance of violence against women It made recommendations \\n36 Ethiopia enquired about the impact of legal restrictions applicable to certain constitutional rights on individualsÕ enjoyment of the rights concerned It noted the existence of restrictions on the capacity of law enforcement bodies to interpret the countryÕs human rights obligations It made a recommendation \\n37 France welcomed the restoration of parliamentary democracy and the adoption of the new Constitution which had put an end to major discrimination on ethnic grounds France made recommendations \\n38 Germany welcomed the Bill of Rights contained in the new Constitution It commended the abolitionist approach taken towards the death penalty for over two decades Germany made recommendations \\n39 Fiji indicated that the Human Rights and AntiDiscrimination Commission would now serve as the predominant enforcement body for the Bill of Rights guaranteed under the Constitution The Constitution provided for the independence of the Commission in its functions and in the exercise of its authority and powers including administrative autonomy and control over its own budget and finances In order to fulfil its mandate which included enforcing and monitoring compliance with the human rights instruments ratified by the Government including by bringing proceedings before the courts Parliament had to provide adequate funding and resources for the Commission OHCHR and development partners were invited to work with the Government to strengthen the capacity of the Commission and ensure compliance with the principles relating to the status of national institutions for the promotion and protection of human rights Paris Principles \\n40 The meritocracy approach to the Fijian public service had done away with discriminatory policies that had promoted an elite agenda and clique rather than addressing the inequalities they had claimed to address \\n41 The Chief Justice refuted any insinuations that the Fijian judiciary was not independent and that it was subject to the direction and control of the Government The appointment of judicial officers was handled by the Judicial Services Commission and consultation with not concurrence or approval of the AttorneyGeneral was required In the case of disagreement it was ultimately the CommissionÕs final decision Comments to the effect that the Government controlled the judiciary were therefore erroneous Representation on the Commission of members and nonmembers of the Bar and video recording of its proceedings were a noticeable improvement from the situation under the 1997 Constitution The appointment process of members to the Commission was considerably less subject to political influence and control Furthermore new protections had been introduced into the 2013 Constitution providing for the independence and autonomy of the judiciary in section 97 \\n42 The only two judicial appointments controlled by the Government were those of the Chief Justice and the President of the Court of Appeal under procedures that were the same as those contained in the 1997 Constitution and similar to other jurisdictions The \\narrangements under the current Constitution for judicial appointments were a noticeable improvement from previous constitutions \\n43 The only interference in the Fijian judiciary had been the travel bans placed by Australia and New Zealand on members of the Fijian judiciary appointed after 2009 which had prevented suitably qualified persons who might have served on the judicial bench from doing so Sri Lankan assistance in allowing the secondment of its judiciary to Fiji had enabled the judiciary in Fiji to continue to function effectively \\n44 Section 97 of the Fijian Constitution had brought the judiciary into compliance with the Basic Principles on the Independence of the Judiciary and the Basic Principles on the Role of Lawyers \\n45 The Chief Justice said that a substantial training programme had been put in place for the judiciary in order to enable all its members to be fully cognizant with human rights issues including awareness of and sensitivity to gender issues and children in court Training input and assistance from specialist nongovernmental organizations NGOs would be welcomed However the judiciary could not discuss individual cases with NGOs and requests for information and letters seeking intervention with a view to appeal were better addressed to the Director of Public Prosecutions \\n46 Other developments in the judicial sector had included the introduction of sittings conducted in open court except in cases involving childrenÕs evidence trade secrets copyright or national security Video recording of all court proceedings would also be introduced in the near future In order to improve access to justice and in line with the Bill of Rights in the Constitution new lifts for the disabled cr\\x8fches and rooms for vulnerable witnesses had been introduced in courts \\n47 The Chief Justice had issued a directive indicating that no case in which the applicability of ouster clauses was challenged could be rejected by registry staff on initial filing All such cases must be listed before a judge for hisher ruling on that jurisdictional matter Discussions would be ongoing with organizations such as ILO on providing training sessions for judges and lawyers in relevant areas \\n48 Ghana welcomed the entry into force of the new Constitution which took into account the rights of children and of persons with disabilities Ghana made recommendations \\n49 India commended the holding of democratic elections the adoption of the Constitution the commitment to ratifying core human rights treaties the allocation of resources to promote access to justice the HIVAIDS Decree the National Policy on Persons Living with Disabilities and the National Gender Policy India made recommendations \\n50 Indonesia welcomed the results of the elections in which Fijians had freely exercised their right to vote It recalled the tenyear time frame set by the Government to ratify the core human rights treaties It commended efforts to combat discrimination against women particularly through the National Gender Policy Indonesia made recommendations \\n51 Ireland urged Fiji to cooperate fully with special procedures It expressed concern about restrictions on freedom of expression under the Constitution and the Media Decree and the impact of the Public Order Amendment Decree on the exercise of freedom of peaceful assembly Ireland made recommendations \\n52 Israel commended the holding of free and fair elections and the adoption of the Constitution which enshrined nonnegotiable principles and values such as a common and equal citizenry a secular State and social justice It asked whether concrete measures were \\nbeing taken to maintain a judiciary that was independent of the Government and the military Israel made a recommendation \\n53 Italy appreciated the GovernmentÕs commitment to ratify the outstanding human rights instruments within ten years It welcomed the steps taken to strengthen womenÕs rights and commended the ratification of CEDAW and the adoption of the National Gender Policy It encouraged the authorities to combat stereotypical attitudes to women and violence against women Italy made recommendations \\n54 Japan welcomed the positive developments to promote the democratic process but expressed concern about the broad grounds under the Constitution for restrictions on freedom of expression opinion association and assembly It encouraged Fiji to further promote womenÕs status and increase their participation in decisionmaking processes Japan made recommendations \\n55 Kenya enquired about progress in ratifying core human rights instruments It noted that the 2009 Human Rights Commission Decree affected the CommissionÕs independence and functionality Kenya made recommendations \\n56 Kuwait commended Fiji for its commitment to ratifying all core human rights treaties and the steps it had taken to enhance and implement the Strategic Development Plan Kuwait made a recommendation \\n57 Lebanon welcomed the steps taken to safeguard political social economic and cultural freedoms and freedom of the media thereby consolidating democracy and equal rights It commended in particular the adoption of the Constitution and the holding of general elections Lebanon made recommendations \\n58 Malaysia appreciated the implementation of various policies and plans as recommended during the first review Positive updates in education information and communications technology housing womenÕs empowerment and childrenÕs rights were welcomed alongside the Constitution and free elections Engagement with the international community was noted Malaysia made recommendations \\n59 Maldives welcomed the Constitution and congratulated the Government on successful elections and its commitment to democratic consolidation and the rule of law It also welcomed the efforts to reduce carbon emissions and mitigate and adapt to climate change Maldives made a recommendation \\n60 Montenegro asked about progress towards ratification of core human rights treaties implementation of the National Gender Policy measures to ensure gender equality in law and practice and discussions on removing the death penalty from the Military Code Montenegro made recommendations \\n61 Morocco welcomed the holding of elections the implementation of the Roadmap for Democracy which targeted revitalization of the national economy and the elimination of ethnic discrimination and the progressive Constitution It asked for an update on the implementation of the Domestic Violence Decree Morocco made recommendations \\n62 Namibia commended progress in the sphere of civil and political rights It noted strengthened human rights institutions and the new Constitution which provided for an independent judiciary human rights for all and equal access to the law Namibia made recommendations \\n63 The Netherlands appreciated the return to democracy the Constitution and the WomenÕs Plan of Action Concerns were raised that gender equality had not been established in the Constitution and that no comprehensive law criminalized all forms of genderbased violence The Netherlands made recommendations \\n64 New Zealand welcomed recent elections the successful first sitting of Parliament and the ILO direct contacts mission The situation of human rights defenders was a concern It noted investigations into violence in custody and the reconvening of the Fiji Law Society It made recommendations \\n65 Norway noted that the Constitution enshrined the principles of equality nondiscrimination and an independent judiciary and established the rights of indigenous Fijians The September elections had been a significant step An active role for Fiji in the Human Rights Council would be welcomed Norway made recommendations \\n66 The Philippines noted the strengthening of democratic processes and protection for vulnerable groups It asked whether resources for socioeconomic programmes had been allocated and how development partners could help It also asked what barriers there were to the functioning of the judiciary and how the international community could provide assistance It made a recommendation \\n67 In response to the questions pertaining to the media and freedom of speech of expression and of the press Fiji stated that it did not accept the premise of the questions asked on the Media Industry Development Decree since those questions had implied or stated outright that the media framework was restrictive andor that there was censorship of the media \\n68 Through its Bill of Rights the Fijian Constitution unequivocally recognized freedom of the press as pivotal to the realization of freedom of speech expression thought opinion and publication \\n69 Fiji shared the concerns that had been voiced about the fact that repressive laws could severely restrict press freedom Fiji had taken significant steps in securing greater rights and freedoms However no country guaranteed unfettered freedom without responsibility While guaranteeing freedom of speech expression thought opinion and of the press the Constitution explicitly prohibited any speech opinion or expression that was tantamount to war propaganda incitement to violence or insurrection against the Constitution or advocated hatred based on any of the prohibited grounds of discrimination which included race culture ethnic or social origin sex gender sexual orientation and gender identity language economic social or health status disability age and religion Those limitations were also in line with general recommendation No 35 of the Committee on the Elimination of Racial Discrimination on combating racist hate speech \\n70 The Fijian Constitution contained a definition of hate speech that was comparable to that in the German legal framework given the history of religious and racial intolerance Training to ensure that the media understood where to draw the line between free speech and limitations on free speech in accordance with international law especially the jurisprudence of the European Court of Human Rights was of paramount importance \\n71 The Public Emergency Regulations had been revoked The Media Industry Development Decree 2010 through a very progressive Media Code of Ethics and the Constitution guaranteed the freedom of the press and protected the confidentiality of journalistic sources in line with a decision of the European Court of Human Rights and article 10 of the European Convention on Human Rights It also encouraged robust debate without inciting hatred and was consistent with the law on justifiable limitations to free speech under the International Covenant on Civil and Political Rights ICCPR and the European Convention It should be noted that the Media Code of Ethics in the Media Industry Development Decree 2010 had been copied verbatim from the Code of Ethics adopted by the previous selfregulated Media Council \\n72 The Media Industry Development Authority had called for balanced accurate and evidencebased reporting encouraging quality journalism that was ethical and followed internationally recognized protocols of responsible journalism \\n73 The Media Industry Development Decree 2010 provided for an independent media tribunal presided over by a High Court judge which adjudicated in cases of breaches of media codes or matters relating to media disputes Only one prosecution had taken place under the Media Industry Development Authority in relation to foreign ownership of a media organization There had been no prosecution of any media organization for breaches of the Code of Ethics or regarding media content \\n74 The Media Industry Development Authority had actively encouraged the mainstream media both print and broadcast to report freely and critically on public opinion and views including those which were critical of the Government The consistent call from the Media Industry Development Authority for selfregulation and continuous education of the media was consistent with the recent call from the United Nations Educational Scientific and Cultural Organization UNESCO in its 2014 report ÒWorld trends in freedom of expression and media developmentÓ to strengthen national legislative frameworks and the training of journalists in order to build capacity and improve media and information literacy and to support media independence by promoting professional standards and selfregulation \\n75 Training for journalists had been conducted on the Media Code of Ethics the Bill of Rights and on reporting the elections In addition there were plans to work with the United Nations Development Programme on training for the Fijian media on reporting parliamentary debates The Government welcomed the ILO proposal to provide training for the Fijian media on labour rights Those collaborative efforts between Fiji and the international community signalled an encouraging positive step towards constructive engagement in improving the freedom of the press Civil society organizations were invited to enter into similar collaborative arrangements to further strengthen the media \\n76 Portugal welcomed the Constitution emphasized the importance of Human Rights Council special procedures and noted the participation of women in Parliament It encouraged Fiji to enhance the participation of women in political and public affairs It asked for information on measures to ensure gender equality in law and in practice Portugal made recommendations \\n77 The Republic of Korea noted the Constitution the national elections and the lifting of the Public Emergency Regulations It expressed concern at alleged human rights abuses perpetrated by the police and the military genderbased violence and reports that decrees could justify curbs of fundamental freedoms It made recommendations \\n78 The Russian Federation welcomed the new Constitution of Fiji and took positive note of the establishment of the Human Rights and AntiDiscrimination Commission It noted the implementation of the National Policy on Persons Living with Disabilities The Russian Federation made recommendations \\n79 Sierra Leone noted the lifting of the Public Emergency Regulations the national elections and the new Constitution It observed that the Bill of Rights contained no provisions on womenÕs rights It asked how children were protected from abuse at home which challenges hindered the promotion of socioeconomic rights and what steps were taken to mitigate the effects of climate change on socioeconomic rights Sierra Leone made recommendations \\n80 Singapore noted the successful elections the strengthened legislative framework and efforts to improve access to justice including for underprivileged communities through the \\nLegal Aid Commission Plans to expand poorer childrenÕs access to tertiary education and the granting of scholarships were welcomed Singapore made recommendations \\n81 Slovenia asked about the timeline for removing the death penalty from the Military Code and welcomed the Constitution and the Human Rights and AntiDiscrimination Commission It noted that no information had been provided on sexual and reproductive health education in schools Slovenia made recommendations \\n82 Solomon Islands noted the appointment of a female Speaker of Parliament following parliamentary elections and commended action on gender equality housing and education It encouraged the involvement of Parliamentarians in the followup to the UPR Interest in inviting the Special Rapporteur on the independence of judges and lawyers was noted Solomon Islands made recommendations \\n83 Spain commended Fiji for its new Constitution particularly the provisions on social and economic rights for its recent elections progress regarding the right to water and the signing of the Convention on the Rights of Persons with Disabilities CRPD Spain was concerned that the Essential National Industries Employment Decree was contrary to international labour and human rights standards It was also concerned about the low reporting rates by women of genderbased violence Spain made recommendations \\n84 Sri Lanka welcomed the Constitution and commended measures for economic growth It asked what barriers there were to an effective judiciary and how the international community could help Sri Lanka encouraged the provision of technical assistance and capacitybuilding to Fiji It made recommendations \\n85 Swaziland welcomed the parliamentary elections and the appointment of a female Speaker of Parliament It noted that amendments to the new Constitution required approval by a national referendum Given the allegations of the lack of consultation prior to the passing of the Constitution Swaziland asked what the rationale was behind that provision Swaziland made a recommendation \\n86 Switzerland welcomed the new Constitution and the lifting of the Public Emergency Regulations Legislation on public order the media industry and crimes continued to disproportionately restrict the freedoms of expression assembly and association The invitation of Fiji to the Human Rights Council special procedures was noted Switzerland made recommendations \\n87 Thailand commended Fiji for its recent democratic elections and its enhanced engagement with civil society regarding human rights Thailand noted that women in Fiji continued to be underrepresented in decisionmaking and urged it to consider ratifying international human rights treaties Thailand made recommendations \\n88 The United Kingdom of Great Britain and Northern Ireland recognized the crucial democratic steps taken by Fiji It urged Fiji to engage constructively with NGOs in order to ensure that they could operate freely It noted the positive increase in the number of female MPs but remained concerned that women were still underrepresented and faced high levels of violence It made recommendations \\n89 The United Republic of Tanzania commended the Government for its commitment to human rights the new Constitution the recent democratic elections and the provision of free education It encouraged Fiji to continue efforts to attain the right to water housing and a clean environment It made recommendations \\n90 The United States of America urged the Government to ensure that all stakeholders could make their voices heard and participate in the political process It also called for further cooperation between the Government and ILO The United States was concerned at the persistence of genderbased violence the fact that certain decrees unduly restricted \\nfundamental freedoms and the low level of respect for internationally recognized labour rights It made recommendations \\n91 Uruguay encouraged Fiji to redouble its efforts regarding economic social and cultural rights especially concerning commitments to education It hoped that the death penalty would be removed from the Military Code and urged Fiji to adopt measures consolidating respect for human rights including for press freedom Uruguay made recommendations \\n92 Vanuatu commended the recent elections and the return to democracy It congratulated Fiji on its reinstatement as a full Commonwealth member It noted the effective strategies devised to alleviate poverty and the fact that Fiji had signed CRPD and the Optional Protocol thereto and was considering extending an invitation to some special procedures mandate holders Vanuatu made recommendations \\n93 Mexico recognized the efforts made since the first UPR cycle particularly the new Constitution and the holding of elections It commended Fiji for being one of the first Pacific nations to adopt a national policy for older persons and for removing the death penalty from the Criminal Code Mexico made recommendations \\n94 Fiji noted that the Administration of Justice Decree had been repealed in 2013 and that the repeal of any other decrees was the prerogative of Parliament \\n95 The decision had been taken to hold referendums on amendments to the Constitution as they were a direct form of democracy which did not entail third party intervention They therefore represented an important and unprecedented consultative means of amending the Constitution \\n96 Fiji expressed its willingness to cooperate with special procedures mandate holders based on the areas of critical importance and provided that it had the resources to receive such visits \\n97 Fiji reiterated that the human rights aspects of climate change such as the sovereignty issues faced by lowlying countries facing flooding and the human rights of peoples facing displacement as a result of climate change must be addressed by the Council As a small island developing State at the forefront of the adverse impacts of climate change Fiji had adopted an integrated response to climate change and disaster risk management and a National Green Growth Framework which aimed for sustainable development economic growth and resilience to the anticipated adverse effects of climate change \\n98 Fiji thanked the VicePresident of the Human Rights Council for the interactive dialogue and stated that the extensive reforms conducted since the last cycle which went beyond the requirements of international instruments showed the long way that Fiji had come Fiji trusted that its responses to the concerns raised had shown such progress and that the entire process and its constructive engagement would help provide tangible benefits and a substantive positive impact on the lives of individual Fijians \\nII Conclusions andor recommendations\\n99 The recommendations formulated during the interactive dialogue and listed below have been examined by and enjoy the support of Fiji \\n991 Consider expediting the ratifications of the core human rights treaties to which it is not yet a party as recommended previously Republic of Korea \\n992 Consider positively signing core human rights treaties to which it is not yet a party United Republic of Tanzania \\n993 Consider the timely ratification of the major international human rights instruments including the International Covenant on Economic Social and Cultural Rights ICESCR the International Covenant on Civil and Political Rights ICCPR and the Convention against Torture and Other Cruel Inhuman or Degrading Treatment or Punishment CAT Japan \\n994 Ratify ICCPR Montenegro Ratify ICCPR Uruguay Ratify the International Covenant on Civil and Political Rights Algeria Accord priority to the ratification of ICCPR India Accelerate the ratification process of ICCPR Switzerland Take steps to ratify and implement ICCPR Kenya Ratify the core international human rights instruments such as ICCPR Sierra Leone Ratify ICCPR Estonia Consider becoming a party to ICCPR New Zealand Ratify in particular ICCPR Italy Move on speedily to the ratification andor application of human rights instruments particularly the International Covenant on Civil and Political Rights Chile Accede to the international treaties on human rights and ratify ICCPR Portugal \\n995 Accede to the Second Optional Protocol to ICCPR aiming at the abolition of the death penalty Germany \\n996 Ratify the Second Optional Protocol to ICCPR Estonia Accede to the international treaties on human rights and ratify the Second Optional Protocol to ICCPR Portugal \\n997 Ratify ICESCR Algeria Accord priority to the ratification of ICESCR India Accelerate the ratification process of ICESCR Switzerland Take steps to ratify and implement ICESCR Kenya Ratify the core international human rights instruments such as ICESCR Sierra Leone Ratify in particular ICESCR Italy Accede to the international treaties on human rights and ratify ICESCR Portugal \\n998 Ratify CAT Algeria Speed up the process of ratification of CAT as one of the important steps in its commitment to the observance of human rights Indonesia Accelerate the ratification process of CAT Switzerland Take steps to ratify and implement CAT Kenya Ratify the core international human rights instruments such as CAT Sierra Leone Consider becoming a party to CAT New Zealand Ratify in particular CAT Italy Move on speedily to the ratification andor application of human rights instruments particularly CAT Chile Accede to the international treaties on human rights and ratify CAT Portugal  \\n999 Take the necessary steps to ratify CAT Ghana \\n9910 Consider ratifying the optional protocols to the Convention on the Rights of the Child which inter alia guard against the involvement of children in armed conflict OPCRCAC and guard against the sale of children child prostitution and child pornography OPCRCSC which Fiji signed in 2005 Namibia Accede to the international treaties on human rights and ratify OPCRCAC and OPCRCSC Portugal \\n9911 Take the necessary steps to ratify the International Convention on the Protection of the Rights of All Migrant Workers and Members of Their Families Ghana \\n9912 Consider the issue of ratification of the Convention on the Rights of Persons with Disabilities Russian Federation Take steps to ratify and implement CRPD Kenya \\n9913 Ratify CRPD as soon as possible to ensure that there is equal treatment for persons with disabilities pursuant to the new Constitution as recommended previously Spain  \\n9914 Take further steps in view of the ratification of CRPD as soon as possible within a 10 yearsÕ timeframe Vanuatu  \\n9915 Ratify the International Convention for the Protection of All Persons from Enforced Disappearance Uruguay Ratify the core international human rights instruments such as ICPPED Sierra Leone Accede to the international treaties on human rights and ratify ICPPED Portugal \\n9916 Continue with the efforts aiming at the ratification of the International Convention for the Protection of All Persons from Enforced Disappearance as well as the ratification of the main international human rights instruments to which Fiji is not yet a party to Argentina \\n9917 Appoint a Chairperson to the Fiji Human Rights and AntiDiscrimination Commission Australia \\n9918 Take steps to seek the CommissionÕs reaccreditation under the Paris Principles Australia \\n9919 Take appropriate steps to ensure that the Human Rights and AntiDiscrimination Commission functions in compliance with the Paris Principles India \\n9920 Reinstate the full independence and functionality of the Human Rights Commission to bring it in line with the Paris Principles and in accordance with the recommendations it had already accepted at the last UPR review Kenya \\n9921 Bring the Human Rights and AntiDiscrimination Commission into line with the Paris Principles Morocco \\n9922 Provide adequate funding to the Human Rights and AntiDiscrimination Commission and take steps to ensure its conformity with the Paris Principles Sierra Leone  \\n9923 Ensure adequate funding from the budget for the National Human Rights and AntiDiscrimination Commission Russian Federation \\n9924 Provide adequate funding and resources for the work of the Human Rights and AntiDiscrimination Commission Slovenia \\n9925 Consider developing human rights indicators as suggested by OHCHR as an instrument that allows for a more precise and coherent evaluation of national human rights policies Portugal \\n9926 Put in place technical assistance programmes in order to strengthen FijiÕs national capacities in the area of human rights Morocco  \\n9927 Continue to seek technical assistance from the international community in the implementation of the accepted recommendations in the first and second cycles of the UPR Vanuatu \\n9928 Continue the networking by the Fijian Judiciary and FijiÕs Human Rights and AntiDiscrimination Commission with relevant international organizations to strengthen the protection and promotion of human rights in the country Thailand  \\n9929 Intensify the cooperation with the international human rights bodies including through country visits and the provision of assistance to Fiji Uruguay \\n9930 Examine issuing a standing invitation to special procedures Japan \\n9931 Prior to the next cycle of the UPR for Fiji take further steps in the consideration of extending an invitation to special rapporteurs Vanuatu \\n9932 Take further action to ensure the effective implementation and formulation of legislation that guaranteesensures equality and protection of women Argentina \\n9933 Redouble its efforts in implementing such policy as the Fiji National Gender Policy through a set of clear and measurable strategies Indonesia \\n9934 Give effective implementation to the Fiji National Gender Policy and the WomenÕs Plan of Action for 2010Ð2019 and renew efforts in fighting all cases of discrimination and violence against women Italy \\n9935 Build on the work of FijiÕs Ministry of Women Social Welfare and Poverty Alleviation to improve the protection of women and girls by effectively addressing genderbased violence particularly intimate partner violence and by advancing programmes to combat gender discrimination United States of America \\n9936 Continue its efforts in promoting gender equality including expanding the role of women in its national development by providing the necessary financial and human resources to strengthen the implementation of policies and programmes for the empowerment of women in social and public life Malaysia  \\n9937 Take concrete measures to eliminate gender stereotypes and discrimination against women Bangladesh \\n9938 Ensure equality and nondiscrimination between men and women as regards access to land employment and economic and political participation Ghana \\n9939 Take further measures to ensure equality and nondiscrimination of men and women in law and practice including in access to land employment and economic and political participation Netherlands \\n9940 Promote actively womenÕs participation in different sectors of the society especially in public services Thailand \\n9941 Work at reducing the high incidence of all forms of violence against women prosecute perpetrators of such acts and criminalize all forms of violence against women Ghana \\n9942 Take decisive steps to end violence against women for instance by sending a strong public message of zero tolerance and by working together with men and women to break the cycle of violence Netherlands \\n9943 Take the necessary measures to combat violence against women Algeria \\n9944 Take the necessary measures to ensure that the decree on domestic violence be effectively implemented and that the perpetrators of violence against women including within the family be duly prosecuted and punished Belgium \\n9945 Ensure the effective implementation of the law on domestic violence Spain \\n9946 Take effective measures to prevent violence against women and children Japan \\n9947 Take more vigorous public action against all forms of child trafficking for sexual exploitation labour or other purposes Lebanon \\n9948 Strengthen and implement policy measures to eliminate child trafficking Maldives  \\n9949 Continue to strengthen efforts to eliminate racial discrimination Bangladesh \\n9950 Continue its efforts to eliminate discrimination on political economic social and ethnic grounds in line with the Constitution in order to achieve equality among all citizens Lebanon \\n9951 Take concrete measures to end discrimination and counter stigmatization of marginalized groups including minorities and lesbian gay bisexual transgender and intersex persons Germany  \\n9952 Abolish completely and definitively the death penalty for all crimes France \\n9953 Take the necessary measures to abolish the death penalty under its Military Law Namibia  \\n9954 Eliminate definitively and without further delay capital punishment from the military code Switzerland \\n9955 Take measures to properly handle the case of alleged torture and illtreatment in the military and police and to put a halt to discrimination and violence against women Republic of Korea \\n9956 Continue to take steps to implement stronger accountability mechanisms and ensure the independence of investigations into allegations of human rights abuses when they occur New Zealand \\n9957 Offer programmes for education and training in human rights for law enforcement officials the army the police and prison services in order to prevent human rights violations especially torture and mistreatment Costa Rica \\n9958 Enhance its cooperation with United Nations human rights bodies and other regionalinternational partners particularly in providing the police force with appropriate training in contemporary custodial and interrogation \\ntechniques in accordance with international human rights standards Philippines  \\n9959 Continue partnerships with Member States and United Nations bodies as it deems necessary in furthering its efforts to ensure the independence of the judiciary Sri Lanka \\n9960 In cooperation with relevant international organizations continue to enhance the rule of law to ensure a safe and stable living environment for the people Singapore \\n9961 Ensure that national labour legislation respects international law in this field Spain \\n9962 Continue to take measures to ensure freedoms of expression and opinion especially of trade unions Ghana \\n9963 Ensure respect for freedoms of expression assembly and association including for the exercise of trade union rights France \\n9964 Step up its efforts to consolidate political social economic and cultural freedoms and freedom of the media Lebanon  \\n9965 Protect and promote freedom of expression and media pluralism France \\n9966 Expedite the enactment of the Freedom of Information Bill India  \\n9967 Take all necessary measures to guarantee that its citizens particularly journalists enjoy full freedom of opinion and expression Brazil \\n9968 Adopt effective measures to ensure freedom of expression and the protection of journalists as well as of opposition and critics of the Government Italy \\n9969 Take all relevant steps to protect human rights defenders New Zealand \\n9970 Take further steps to ensure a safe and enabling environment for human rights defenders Norway \\n9971 Adopt concrete measures to guarantee that human rights defenders are able to realize their work with no obstacles and that their freedoms of expression association and assembly are ensured as recommended previously Spain \\n9972 Ensure free transparent and broadranging participation of civil society minorities and ethnic communities in the national public debate Chile \\n9973 Ensure greater civic education on electoral and Constitutional rights to ensure that referendums are useful and effective Swaziland \\n9974 Adopt measures to continue to democratize local government elections based on equal suffrage United Republic of Tanzania \\n9975 Intensify its efforts to fight against poverty including through international cooperation and the implementation of lessons learned from successful experiences Brazil \\n9976 Continue to prioritize poverty elimination in its national development and enhance its peopleÕs wellbeing China \\n9977 Take further steps to implement the Strategic Development Plan Kuwait \\n9978 Continue to strengthen the implementation of the rights to drinking water and sanitation for the whole population especially for rural communities Spain  \\n9979 Further strengthen measures to ensure equal access to health services for all while giving special attention to the needs of children women and the elderly Sri Lanka  \\n9980 Consider mainstreaming sexual and reproductive health education in schools and improving access to contraception for adults and young people Slovenia \\n9981 Continue consolidating its successful educational programmes which provide the whole population with free access to quality education for the purpose of developing an integrated education system based on the principles of accessibility and quality Venezuela Bolivarian Republic of \\n9982 Continue its efforts to provide free education for primary and secondary school students Malaysia \\n9983 Continue to improve its education system and ensure access to quality education for all Singapore  \\n9984 Adopt specific measures to combat discrimination against children with disabilities in accessing an inclusive education Spain \\n9985 Continue promoting awareness and empowerment policies for persons with disabilities Venezuela Bolivarian Republic of \\n9986 Continue implementing the national policy for persons with disabilities which lays out the fundamental pillars of development to ensure that an integrative society can truly take root Cuba  \\n100 The following recommendations enjoy the support of Fiji which considers that they have already been implemented or are in the process of implementation \\n1001 Move on speedily to the ratification andor application of human rights instruments particularly the Convention on the Elimination of All Forms of Discrimination against Women Chile \\n1002 Transpose these international instruments the International Covenant on Civil and Political Rights and its first Optional Protocol the Convention against Torture and Other Cruel Inhuman or Degrading Treatment or Punishment and its Optional Protocol the Convention on the Elimination of All Forms of Discrimination against Women into domestic law strengthening among others legislative protection from gender violence and all forms of discrimination particularly against women children and on the ground of sexual orientation Chile \\n1003 Ensure that articles on human rights in the new Constitution fully comply with international standards on promotion and protection of human rights Uruguay \\n1004 Pass legislation to criminalize violence against women Sierra Leone \\n1005 Repeal the right Òto administer reasonable punishmentÓ in the Juveniles Act 1974 and prohibit all corporal punishment of children including in the home Germany \\n1006 Ensure all alleged cases of human rights violations by security forces are investigated urgently and transparently with those held responsible brought to trial swiftly United Kingdom of Great Britain and Northern Ireland \\n1007 Train its lawyers and judges on the interpretation of human rights in accordance with the principle of international human rights law Ethiopia \\n1008 Adopt actions aimed at protectingsafeguarding the independence of judges including measures ensuring autonomy from the executive power with regard to appointment and security of tenure Mexico \\n1009 Take steps to bring labour laws and practices in line with its international obligations including under relevant ILO Conventions United States of America \\n10010 Take the necessary measures to ensure freedom of expression and opinion as well as freedom of association and assembly in accordance with international human rights standards Portugal \\n10011 Take steps to bring domestic law and practice into line with existing international human rights standards in relation to freedom of expression including media freedom Ireland \\n10012 Harmonize the Media Decree with international standards and enact a law on freedom of information in conformity with international standards as recommended by UNESCO Mexico \\n101 The following recommendations will be examined by Fiji which will respond to them in due course but no later than the twentyeighth session of the Human Rights Council in March 2015 \\n1011 Bolster the constitutional Bill of Rights by acceding to ICCPR and the first Optional Protocol thereto and in that context initiate a process in order to ensure compatibility of existing national laws and decrees with the new Constitution Part of this process should be strengthening the judiciary Germany \\n1012 Demonstrate its commitment toward protecting and promoting human rights and fundamental freedoms by acceding to without delay the International Covenant on Civil and Political Rights and the International Covenant on Economic Social and Cultural Rights Canada \\n1013 Complete the work towards the ratification of the core international human rights treaties firstly ICCPR and ICESCR within the period of the next review Russian Federation \\n1014 Ratify the first optional protocol to ICCPR Uruguay Ratify the first optional protocol to ICCPR Estonia Move on speedily to the ratification andor application of human rights instruments and optional protocols particularly the first Optional Protocol to the International Covenant on Civil and Political Rights Chile Accede to the international treaties on human rights and ratify the first Optional Protocol to ICCPR Portugal \\n1015 Accede to the international treaties on human rights and ratify the Optional Protocol to ICESCR Portugal \\n1016 Move on speedily to the ratification andor application of human rights instruments and optional protocols particularly the Optional Protocol to \\nthe Convention against Torture and Other Cruel Inhuman or Degrading Treatment or Punishment Chile \\n1017 Consider ratifying OPCAT as well Denmark \\n1018 Ratify the Optional Protocol to CEDAW Portugal \\n1019 Accede to the international treaties on human rights and ratify OPCRCIC Portugal \\n10110 Establish a Constitutional Commission to conduct a comprehensive review of the 2013 Constitution and carry out national consultations to ensure that the Constitution is reflective of the will of the people Estonia  \\n10111 Consider establishing a Constitutional Commission to conduct a comprehensive review of the Constitution thereby ensuring that it is reflective of the will and aspirations of the citizens of Fiji seeing that this might help to bring about a more stable political structure Namibia \\n10112 Establish in consultation with civil society a mechanism to develop and harmonize a legislative framework derived from the new Constitution and in accordance with international human rights standards Mexico \\n10113 Fully align its national legislation with the Rome Statute of the International Criminal Court and ratify the Agreement on Privileges and Immunities of the Court Estonia \\n10114 Consider ensuring that the issue of violence against women be considered by the Human Rights and AntiDiscrimination Commission as one of its priorities Slovenia \\n10115 Extend a standing invitation to special procedures to allow them easy access in visiting Fiji and thus assist the authorities in pursuing progress Belgium \\n10116 Extend an open and standing invitation to the United Nations special procedures mandate holders Chile \\n10117 Extend a standing invitation to the special procedures of the Human Rights Council and coordinate in the shortest possible terms the requested visits Costa Rica \\n10118 Issue standing invitations to all special procedures Ghana \\n10119 Extend a standing invitation to the special procedures of the Human Rights Council Portugal \\n10120 Respond to the numerous requests for visits issued by the special procedures and extend a standing invitation to the special procedures as soon as possible Slovenia  \\n10121 Extend a standing invitation to all United Nations Human Rights Council special procedures and receive those that have requested to visit Montenegro \\n10122 Issue a standing invitation to all Human Rights Council thematic special procedures and facilitate requested visits and respond promptly and substantially to the communications transmitted to Fiji by the special procedures mandate holders Norway \\n10123 Accept visits from and provide full cooperation to the special procedures of the Human Rights Council in order for them to fulfil their mandates and pursuant to commitments of the Government Uruguay \\n10124 Accept outstanding requests from special mandate holders including that of the Special Rapporteur on the independence of judges and lawyers to visit Fiji New Zealand \\n10125 Welcome the visit of the Special Rapporteur on the independence of judges and lawyers in order to provide expertise and assistance in the process of maintaining an independent judiciary Israel \\n10126 Facilitate a visit of the Special Rapporteur on the independence of judges and lawyers prior to the third review of Fiji under the UPR Solomon Islands \\n10127 Extend a standing invitation to United Nations special procedures mandate holders and initiate without delay cooperation with the Special Rapporteur on torture and other cruel inhuman or degrading treatment or punishment Switzerland \\n10128 Respond favourably to the request of the Special Rapporteur on the question of torture to visit the country Denmark \\n10129 Facilitate a visit by the Special Rapporteur on the situation of human rights defenders Norway \\n10130 Strengthen existing mechanisms in the current social political and economic structures of the Fijian society to safeguard the rights of ethnic minorities Solomon Islands \\n10131 Amend the legislative and constitutional framework to maintain the separation of powers and cease any executive interference with the independence of the judiciary and lawyers and ensure that the processes governing the qualification and discipline of lawyers and judges are free from political interference Canada \\n10132 Conclude the Tripartite Memorandum of Understanding on the future of labour relations in Fiji Australia \\n10133 Take the necessary measures to amend existing legislation in order to bring possible restrictions to freedom of expression or assembly in line with international human rights norms and standards Belgium \\n10134 Amend the Constitution as well as national legislation to ensure that the rights to freedoms of expression assembly and association be guaranteed without restrictions other than those provided for within the framework of international law Switzerland \\n10135 Ensure respect for freedoms of expression peaceful assembly and association by amending aspects of decrees such as the Public Order Act Amendment Decree the Political Parties Decree and the Media Industry Development Decree that unduly restrict fundamental freedoms United States of America \\n10136 Favourably consider revising the Public Order Amendment Decree and the Media Industry Development Decree in a way that fully ensures the rights to freedoms of association assembly press and expression Republic of Korea \\n10137 Review and amend or repeal as necessary all decrees limiting freedom of expression and association particularly the Media Essential National Industries and Public Order Decrees United Kingdom of Great Britain and Northern Ireland \\n10138 Bring legislation on freedom of expression assembly and association in line with international human rights standards in particular by repealing the ÒMedia Industry Development DecreeÓ 2010 in order to end intimidation and harassment of those that express criticism of the State to change the climate of fear and selfcensorship and to ensure that no one is arbitrarily arrested and detained for exercising their rights Germany  \\n10139 Ensure respect for freedom of expression and protection of journalists by reforming the Media Industry Development Decree 2010 and introducing freedom of information legislation that accords with international human rights standards Canada \\n10140 Create and maintain a safe and enabling environment for civil society actors to freely associate by amending relevant laws and ensuring they are not invoked to curtail the right to freedom of peaceful assembly Ireland \\n102 All conclusions andor recommendations contained in the present report reflect the position of the submitting States andor the State under review They should not be construed as endorsed by the Working Group as a whole \\n \\nAnnex \\nEnglish only \\n  Composition of the delegation \\nThe Fijian delegation was headed by Honourable Mr Aiyaz SayedKhaiyum AttorneyGeneral and Minister of Justice and composed of the following members \\n¥ Mr Anthony Gates Chief Justice \\n¥ HE Nazhat Shameen Khan Ambassador and Permanent Representative \\n¥ Mr Christopher Pryde Director of Public Prosecutions \\n¥ Mr Ashwin Raj Chairperson Media Industry and Development Authority  \\n¥ Ms Namita Khatri Deputy Permanent Representative \\n¥ Ms RobynAnn Mani Acting Senior Legal Officer SolicitorGeneralÕs Office \\n¥ Ms TupoutuaÕh Baravilala Acting Senior Legal Officer SolicitorGeneralÕs Office \\n¥ Ms Seema Chand Legal Officer SolicitorGeneralÕs Office  \\n¥ Mr Romain Simona intern Permanent Mission of Fiji and \\n¥ Ms Faazilah Adam intern Permanent Mission of Fiji \\n    \\n\\n'"
      ]
     },
     "execution_count": 86,
     "metadata": {},
     "output_type": "execute_result"
    }
   ],
   "source": [
    "remove_punct_map = dict.fromkeys(map(ord, string.punctuation))\n",
    "fiji.translate(remove_punct_map)"
   ]
  },
  {
   "cell_type": "markdown",
   "metadata": {},
   "source": [
    "#### 51. Import the `word_tokenize` function from the nltk library"
   ]
  },
  {
   "cell_type": "code",
   "execution_count": 90,
   "metadata": {},
   "outputs": [
    {
     "name": "stdout",
     "output_type": "stream",
     "text": [
      "showing info https://raw.githubusercontent.com/nltk/nltk_data/gh-pages/index.xml\n"
     ]
    }
   ],
   "source": [
    "import nltk\n",
    "nltk.download()\n",
    "from nltk.tokenize import word_tokenize\n"
   ]
  },
  {
   "cell_type": "markdown",
   "metadata": {},
   "source": [
    "#### 52. Tokenize `fiji` using `word_tokenize`. Save the tokens in a variable named `tokens`"
   ]
  },
  {
   "cell_type": "code",
   "execution_count": 91,
   "metadata": {},
   "outputs": [],
   "source": [
    "tokens = word_tokenize(fiji)"
   ]
  },
  {
   "cell_type": "markdown",
   "metadata": {},
   "source": [
    "#### 53. How many words are found in `tokens`?"
   ]
  },
  {
   "cell_type": "code",
   "execution_count": 92,
   "metadata": {},
   "outputs": [
    {
     "name": "stdout",
     "output_type": "stream",
     "text": [
      "11493\n"
     ]
    }
   ],
   "source": [
    "print(len(tokens))"
   ]
  },
  {
   "cell_type": "markdown",
   "metadata": {},
   "source": [
    "#### 54. Import the `sent_tokenize` function from the nltk library"
   ]
  },
  {
   "cell_type": "code",
   "execution_count": 95,
   "metadata": {},
   "outputs": [],
   "source": [
    "from nltk.tokenize import sent_tokenize"
   ]
  },
  {
   "cell_type": "markdown",
   "metadata": {},
   "source": [
    "#### 55. Perform sentence segmentation on `fiji`. Save the segmented sentences in a variable named `sentences`"
   ]
  },
  {
   "cell_type": "code",
   "execution_count": 96,
   "metadata": {},
   "outputs": [],
   "source": [
    "sentences = sent_tokenize(fiji)"
   ]
  },
  {
   "cell_type": "markdown",
   "metadata": {},
   "source": [
    "#### 56. How many sentences are there in `fiji`? \n",
    "\n",
    "> HINT: Was this the answer you expected? See Question # 50 for help"
   ]
  },
  {
   "cell_type": "code",
   "execution_count": 97,
   "metadata": {},
   "outputs": [
    {
     "name": "stdout",
     "output_type": "stream",
     "text": [
      "405\n"
     ]
    }
   ],
   "source": [
    "print(len(sentences))"
   ]
  },
  {
   "cell_type": "markdown",
   "metadata": {},
   "source": [
    "#### 57. Type the code to import nltk and download the \"stopwords\", \"punked\", and \"averaged_perceptron_tagger\" modules. "
   ]
  },
  {
   "cell_type": "code",
   "execution_count": 99,
   "metadata": {},
   "outputs": [],
   "source": [
    "import nltk\n",
    "\n"
   ]
  },
  {
   "cell_type": "markdown",
   "metadata": {},
   "source": [
    "#### 58. Import the stopwords module from nltk"
   ]
  },
  {
   "cell_type": "code",
   "execution_count": 101,
   "metadata": {},
   "outputs": [],
   "source": [
    "from nltk.corpus import stopwords\n"
   ]
  },
  {
   "cell_type": "markdown",
   "metadata": {},
   "source": [
    "#### 59. Remove the stopwords from `fiji`. Copy/paste the below code into a new cell to define the stopwords. Also, copy the list comprehension below into a new cell to remove the stopwords in `tokens`\n",
    "\n",
    "stop = stopwords.words(\"english\")  \n",
    "stop\n",
    "\n",
    "no_stops = [word for word in tokens if word not in stopwords.words('english')]  \n",
    "no_stops"
   ]
  },
  {
   "cell_type": "code",
   "execution_count": 103,
   "metadata": {},
   "outputs": [],
   "source": [
    "stop = stopwords.words(\"english\")\n",
    "#stop"
   ]
  },
  {
   "cell_type": "code",
   "execution_count": 104,
   "metadata": {},
   "outputs": [
    {
     "data": {
      "text/plain": [
       "['United',\n",
       " 'Nations',\n",
       " 'A/HRC/28/8',\n",
       " 'General',\n",
       " 'Assembly',\n",
       " 'Distr',\n",
       " '.',\n",
       " ':',\n",
       " 'General',\n",
       " '17',\n",
       " 'December',\n",
       " '2014',\n",
       " 'Original',\n",
       " ':',\n",
       " 'English',\n",
       " 'Human',\n",
       " 'Rights',\n",
       " 'Council',\n",
       " 'Twenty-eighth',\n",
       " 'session',\n",
       " 'Agenda',\n",
       " 'item',\n",
       " '6',\n",
       " 'Universal',\n",
       " 'Periodic',\n",
       " 'Review',\n",
       " 'Report',\n",
       " 'Working',\n",
       " 'Group',\n",
       " 'Universal',\n",
       " 'Periodic',\n",
       " 'Review*',\n",
       " '*',\n",
       " 'The',\n",
       " 'annex',\n",
       " 'present',\n",
       " 'report',\n",
       " 'circulated',\n",
       " 'received',\n",
       " '.',\n",
       " 'Fiji',\n",
       " 'Contents',\n",
       " 'Paragraphs',\n",
       " 'Page',\n",
       " 'Introduction',\n",
       " '...',\n",
       " '...',\n",
       " '...',\n",
       " '...',\n",
       " '...',\n",
       " '...',\n",
       " '...',\n",
       " '...',\n",
       " '...',\n",
       " '...',\n",
       " '...',\n",
       " '...',\n",
       " '...',\n",
       " '...',\n",
       " '...',\n",
       " '...',\n",
       " '...',\n",
       " '...',\n",
       " '...',\n",
       " '...',\n",
       " '...',\n",
       " '...',\n",
       " '...',\n",
       " '...',\n",
       " '...',\n",
       " '...',\n",
       " '...',\n",
       " '...',\n",
       " '...',\n",
       " '...',\n",
       " '...',\n",
       " '...',\n",
       " '...',\n",
       " '...',\n",
       " '...',\n",
       " '...',\n",
       " '.',\n",
       " '1Ð4',\n",
       " '3',\n",
       " 'I',\n",
       " '.',\n",
       " 'Summary',\n",
       " 'proceedings',\n",
       " 'review',\n",
       " 'process',\n",
       " '...',\n",
       " '...',\n",
       " '...',\n",
       " '...',\n",
       " '...',\n",
       " '...',\n",
       " '...',\n",
       " '...',\n",
       " '...',\n",
       " '...',\n",
       " '...',\n",
       " '...',\n",
       " '...',\n",
       " '...',\n",
       " '...',\n",
       " '...',\n",
       " '5Ð98',\n",
       " '3',\n",
       " 'A',\n",
       " '.',\n",
       " 'Presentation',\n",
       " 'State',\n",
       " 'review',\n",
       " '...',\n",
       " '...',\n",
       " '...',\n",
       " '...',\n",
       " '...',\n",
       " '...',\n",
       " '...',\n",
       " '...',\n",
       " '...',\n",
       " '...',\n",
       " '...',\n",
       " '...',\n",
       " '...',\n",
       " '...',\n",
       " '...',\n",
       " '...',\n",
       " '...',\n",
       " '...',\n",
       " '...',\n",
       " '..',\n",
       " '5Ð20',\n",
       " '3',\n",
       " 'B.',\n",
       " 'Interactive',\n",
       " 'dialogue',\n",
       " 'responses',\n",
       " 'State',\n",
       " 'review',\n",
       " '...',\n",
       " '...',\n",
       " '...',\n",
       " '...',\n",
       " '...',\n",
       " '...',\n",
       " '...',\n",
       " '...',\n",
       " '21Ð98',\n",
       " '5',\n",
       " 'II',\n",
       " '.',\n",
       " 'Conclusions',\n",
       " 'and/or',\n",
       " 'recommendations',\n",
       " '...',\n",
       " '...',\n",
       " '...',\n",
       " '...',\n",
       " '...',\n",
       " '...',\n",
       " '...',\n",
       " '...',\n",
       " '...',\n",
       " '...',\n",
       " '...',\n",
       " '...',\n",
       " '...',\n",
       " '...',\n",
       " '...',\n",
       " '...',\n",
       " '...',\n",
       " '...',\n",
       " '...',\n",
       " '...',\n",
       " '...',\n",
       " '...',\n",
       " '...',\n",
       " '99Ð102',\n",
       " '13',\n",
       " 'Annex',\n",
       " 'Composition',\n",
       " 'delegation',\n",
       " '...',\n",
       " '...',\n",
       " '...',\n",
       " '...',\n",
       " '...',\n",
       " '...',\n",
       " '...',\n",
       " '...',\n",
       " '...',\n",
       " '...',\n",
       " '...',\n",
       " '...',\n",
       " '...',\n",
       " '...',\n",
       " '...',\n",
       " '...',\n",
       " '...',\n",
       " '...',\n",
       " '...',\n",
       " '...',\n",
       " '...',\n",
       " '...',\n",
       " '...',\n",
       " '...',\n",
       " '...',\n",
       " '...',\n",
       " '...',\n",
       " '...',\n",
       " '...',\n",
       " '...',\n",
       " '...',\n",
       " '...',\n",
       " '...',\n",
       " '...',\n",
       " '...',\n",
       " '24',\n",
       " 'Introduction',\n",
       " '1',\n",
       " '.',\n",
       " 'The',\n",
       " 'Working',\n",
       " 'Group',\n",
       " 'Universal',\n",
       " 'Periodic',\n",
       " 'Review',\n",
       " ',',\n",
       " 'established',\n",
       " 'accordance',\n",
       " 'Human',\n",
       " 'Rights',\n",
       " 'Council',\n",
       " 'resolution',\n",
       " '5/1',\n",
       " '18',\n",
       " 'June',\n",
       " '2007',\n",
       " ',',\n",
       " 'held',\n",
       " 'twentieth',\n",
       " 'session',\n",
       " '27',\n",
       " 'October',\n",
       " '7',\n",
       " 'November',\n",
       " '2014',\n",
       " '.',\n",
       " 'The',\n",
       " 'review',\n",
       " 'Fiji',\n",
       " 'held',\n",
       " '5th',\n",
       " 'meeting',\n",
       " ',',\n",
       " '29',\n",
       " 'October',\n",
       " '2014',\n",
       " '.',\n",
       " 'The',\n",
       " 'delegation',\n",
       " 'Fiji',\n",
       " 'headed',\n",
       " 'Aiyaz',\n",
       " 'Sayed-Khaiyum',\n",
       " ',',\n",
       " 'Attorney-General',\n",
       " 'Minister',\n",
       " 'Justice',\n",
       " '.',\n",
       " 'At',\n",
       " '10th',\n",
       " 'meeting',\n",
       " ',',\n",
       " 'held',\n",
       " '31',\n",
       " 'October',\n",
       " '2014',\n",
       " ',',\n",
       " 'Working',\n",
       " 'Group',\n",
       " 'adopted',\n",
       " 'report',\n",
       " 'Fiji',\n",
       " '.',\n",
       " '2',\n",
       " '.',\n",
       " 'On',\n",
       " '15',\n",
       " 'January',\n",
       " '2014',\n",
       " ',',\n",
       " 'Human',\n",
       " 'Rights',\n",
       " 'Council',\n",
       " 'selected',\n",
       " 'following',\n",
       " 'group',\n",
       " 'rapporteurs',\n",
       " '(',\n",
       " 'troika',\n",
       " ')',\n",
       " 'facilitate',\n",
       " 'review',\n",
       " 'Fiji',\n",
       " ':',\n",
       " 'Japan',\n",
       " ',',\n",
       " 'Namibia',\n",
       " 'Russian',\n",
       " 'Federation',\n",
       " '.',\n",
       " '3',\n",
       " '.',\n",
       " 'In',\n",
       " 'accordance',\n",
       " 'paragraph',\n",
       " '15',\n",
       " 'annex',\n",
       " 'resolution',\n",
       " '5/1',\n",
       " 'paragraph',\n",
       " '5',\n",
       " 'annex',\n",
       " 'resolution',\n",
       " '16/21',\n",
       " ',',\n",
       " 'following',\n",
       " 'documents',\n",
       " 'issued',\n",
       " 'review',\n",
       " 'Fiji',\n",
       " ':',\n",
       " '(',\n",
       " ')',\n",
       " 'A',\n",
       " 'national',\n",
       " 'report',\n",
       " 'submitted/written',\n",
       " 'presentation',\n",
       " 'made',\n",
       " 'accordance',\n",
       " 'paragraph',\n",
       " '15',\n",
       " '(',\n",
       " ')',\n",
       " '(',\n",
       " 'A/HRC/WG.6/20/FJI/1',\n",
       " ')',\n",
       " ';',\n",
       " '(',\n",
       " 'b',\n",
       " ')',\n",
       " 'A',\n",
       " 'compilation',\n",
       " 'prepared',\n",
       " 'Office',\n",
       " 'United',\n",
       " 'Nations',\n",
       " 'High',\n",
       " 'Commissioner',\n",
       " 'Human',\n",
       " 'Rights',\n",
       " '(',\n",
       " 'OHCHR',\n",
       " ')',\n",
       " 'accordance',\n",
       " 'paragraph',\n",
       " '15',\n",
       " '(',\n",
       " 'b',\n",
       " ')',\n",
       " '(',\n",
       " 'A/HRC/WG.6/20/FJI/2',\n",
       " ')',\n",
       " ';',\n",
       " '(',\n",
       " 'c',\n",
       " ')',\n",
       " 'A',\n",
       " 'summary',\n",
       " 'prepared',\n",
       " 'OHCHR',\n",
       " 'accordance',\n",
       " 'paragraph',\n",
       " '15',\n",
       " '(',\n",
       " 'c',\n",
       " ')',\n",
       " '(',\n",
       " 'A/HRC/WG.6/20/FJI/3',\n",
       " ')',\n",
       " '.',\n",
       " '4',\n",
       " '.',\n",
       " 'A',\n",
       " 'list',\n",
       " 'questions',\n",
       " 'prepared',\n",
       " 'advance',\n",
       " 'Belgium',\n",
       " ',',\n",
       " 'Germany',\n",
       " ',',\n",
       " 'Liechtenstein',\n",
       " ',',\n",
       " 'Mexico',\n",
       " ',',\n",
       " 'Netherlands',\n",
       " ',',\n",
       " 'Slovenia',\n",
       " ',',\n",
       " 'Spain',\n",
       " 'United',\n",
       " 'Kingdom',\n",
       " 'Great',\n",
       " 'Britain',\n",
       " 'Northern',\n",
       " 'Ireland',\n",
       " 'transmitted',\n",
       " 'Fiji',\n",
       " 'troika',\n",
       " '.',\n",
       " 'The',\n",
       " 'questions',\n",
       " 'available',\n",
       " 'extranet',\n",
       " 'universal',\n",
       " 'periodic',\n",
       " 'review',\n",
       " '(',\n",
       " 'UPR',\n",
       " ')',\n",
       " '.',\n",
       " 'I',\n",
       " '.',\n",
       " 'Summary',\n",
       " 'proceedings',\n",
       " 'review',\n",
       " 'process',\n",
       " 'A',\n",
       " '.',\n",
       " 'Presentation',\n",
       " 'State',\n",
       " 'review',\n",
       " '5',\n",
       " '.',\n",
       " 'Opening',\n",
       " 'statements',\n",
       " 'Fijian',\n",
       " 'delegation',\n",
       " 'made',\n",
       " 'Attorney-General',\n",
       " 'Minister',\n",
       " 'Justice',\n",
       " ',',\n",
       " 'Chief',\n",
       " 'Justice',\n",
       " ',',\n",
       " 'Director',\n",
       " 'Public',\n",
       " 'Prosecutions',\n",
       " 'Chairman',\n",
       " 'Media',\n",
       " 'Industry',\n",
       " 'Development',\n",
       " 'Authority',\n",
       " '.',\n",
       " '6',\n",
       " '.',\n",
       " 'The',\n",
       " 'commitment',\n",
       " 'Fiji',\n",
       " 'promoting',\n",
       " 'protecting',\n",
       " 'fundamental',\n",
       " 'principles',\n",
       " 'values',\n",
       " 'universal',\n",
       " 'human',\n",
       " 'rights',\n",
       " 'set',\n",
       " 'forth',\n",
       " 'Universal',\n",
       " 'Declaration',\n",
       " 'Human',\n",
       " 'Rights',\n",
       " 'affirmed',\n",
       " 'Fijian',\n",
       " 'Constitution',\n",
       " 'adopted',\n",
       " '7',\n",
       " 'September',\n",
       " '2013',\n",
       " '.',\n",
       " 'The',\n",
       " 'first',\n",
       " 'Constitution',\n",
       " 'Fiji',\n",
       " 'eliminate',\n",
       " 'legal',\n",
       " 'enforcement',\n",
       " 'ethnic',\n",
       " 'voting',\n",
       " 'include',\n",
       " 'social',\n",
       " 'economic',\n",
       " 'rights',\n",
       " ',',\n",
       " 'well',\n",
       " 'civil',\n",
       " 'political',\n",
       " 'rights',\n",
       " ',',\n",
       " 'created',\n",
       " 'transformative',\n",
       " 'human',\n",
       " 'rights',\n",
       " 'normative',\n",
       " 'framework',\n",
       " 'people',\n",
       " 'Fiji',\n",
       " '.',\n",
       " 'Under',\n",
       " 'Constitution',\n",
       " ',',\n",
       " 'State',\n",
       " 'legally',\n",
       " 'obliged',\n",
       " 'protect',\n",
       " 'promote',\n",
       " 'rights',\n",
       " '.',\n",
       " '7',\n",
       " '.',\n",
       " 'Fiji',\n",
       " 'held',\n",
       " 'elections',\n",
       " 'Constitution',\n",
       " '17',\n",
       " 'September',\n",
       " '2014',\n",
       " ',',\n",
       " '84.6',\n",
       " 'per',\n",
       " 'cent',\n",
       " 'participation',\n",
       " 'rate',\n",
       " 'registered',\n",
       " 'voters',\n",
       " ',',\n",
       " 'record',\n",
       " 'low',\n",
       " '0.75',\n",
       " 'per',\n",
       " 'cent',\n",
       " 'invalid',\n",
       " 'ballots',\n",
       " '.',\n",
       " 'In',\n",
       " 'preliminary',\n",
       " 'statement',\n",
       " ',',\n",
       " 'Multinational',\n",
       " 'Observer',\n",
       " 'Group',\n",
       " 'deemed',\n",
       " 'elections',\n",
       " 'credible',\n",
       " 'representative',\n",
       " 'Fijian',\n",
       " 'people',\n",
       " '.',\n",
       " '8',\n",
       " '.',\n",
       " 'In',\n",
       " 'addition',\n",
       " 'human',\n",
       " 'rights',\n",
       " 'set',\n",
       " 'forth',\n",
       " 'core',\n",
       " 'international',\n",
       " 'human',\n",
       " 'rights',\n",
       " 'instruments',\n",
       " ',',\n",
       " 'Fiji',\n",
       " 'urged',\n",
       " 'Human',\n",
       " 'Rights',\n",
       " 'Council',\n",
       " 'address',\n",
       " 'emerging',\n",
       " 'human',\n",
       " 'rights',\n",
       " 'issues',\n",
       " 'including',\n",
       " 'trans-border',\n",
       " 'impacts',\n",
       " 'climate',\n",
       " 'change',\n",
       " ',',\n",
       " 'asylum',\n",
       " 'policies',\n",
       " 'consequences',\n",
       " 'free',\n",
       " 'trade',\n",
       " 'agreements',\n",
       " 'social',\n",
       " 'economic',\n",
       " 'rights',\n",
       " '.',\n",
       " '9',\n",
       " '.',\n",
       " 'In',\n",
       " 'response',\n",
       " 'questions',\n",
       " 'ratification',\n",
       " 'international',\n",
       " 'human',\n",
       " 'rights',\n",
       " 'instruments',\n",
       " 'Belgium',\n",
       " ',',\n",
       " 'Mexico',\n",
       " 'United',\n",
       " 'Kingdom',\n",
       " ',',\n",
       " 'Fiji',\n",
       " 'confirmed',\n",
       " 'party',\n",
       " 'International',\n",
       " 'Covenant',\n",
       " 'Civil',\n",
       " 'Political',\n",
       " 'Rights',\n",
       " ',',\n",
       " 'International',\n",
       " 'Covenant',\n",
       " 'Economic',\n",
       " ',',\n",
       " 'Social',\n",
       " 'Cultural',\n",
       " 'Rights',\n",
       " ',',\n",
       " 'Convention',\n",
       " 'Torture',\n",
       " 'Other',\n",
       " 'Cruel',\n",
       " ',',\n",
       " 'Inhuman',\n",
       " 'Degrading',\n",
       " 'Treatment',\n",
       " 'Punishment',\n",
       " '.',\n",
       " 'Nonetheless',\n",
       " ',',\n",
       " 'robust',\n",
       " 'Bill',\n",
       " 'Rights',\n",
       " 'Constitution',\n",
       " 'went',\n",
       " 'beyond',\n",
       " 'obligations',\n",
       " 'instruments',\n",
       " 'placed',\n",
       " 'obligation',\n",
       " 'State',\n",
       " 'promote',\n",
       " 'protect',\n",
       " 'rights',\n",
       " 'Fijians',\n",
       " '.',\n",
       " 'Those',\n",
       " 'rights',\n",
       " 'applied',\n",
       " 'directly',\n",
       " 'Fijian',\n",
       " 'judiciary',\n",
       " '.',\n",
       " 'Approval',\n",
       " 'ratification',\n",
       " 'international',\n",
       " 'instruments',\n",
       " 'prerogative',\n",
       " 'Parliament',\n",
       " '.',\n",
       " '10',\n",
       " '.',\n",
       " 'Fiji',\n",
       " 'remained',\n",
       " 'amenable',\n",
       " 'inviting',\n",
       " 'special',\n",
       " 'procedures',\n",
       " 'mandate',\n",
       " 'holders',\n",
       " 'visit',\n",
       " 'country',\n",
       " '.',\n",
       " 'However',\n",
       " ',',\n",
       " 'operating',\n",
       " 'entirely',\n",
       " 'new',\n",
       " 'political',\n",
       " ',',\n",
       " 'social',\n",
       " 'legislative',\n",
       " 'environment',\n",
       " '.',\n",
       " 'Fiji',\n",
       " 'wanted',\n",
       " 'position',\n",
       " 'ratify',\n",
       " 'instruments',\n",
       " 'resources',\n",
       " 'host',\n",
       " 'meet',\n",
       " 'standards',\n",
       " 'mandate',\n",
       " 'holders',\n",
       " 'inviting',\n",
       " '.',\n",
       " '11',\n",
       " '.',\n",
       " 'WomenÕs',\n",
       " 'rights',\n",
       " 'Fiji',\n",
       " 'line',\n",
       " 'Convention',\n",
       " 'Elimination',\n",
       " 'All',\n",
       " 'Forms',\n",
       " 'Discrimination',\n",
       " 'Women',\n",
       " '(',\n",
       " 'CEDAW',\n",
       " ')',\n",
       " ',',\n",
       " 'Fiji',\n",
       " 'ratified',\n",
       " '1995',\n",
       " '.',\n",
       " 'In',\n",
       " 'response',\n",
       " 'questions',\n",
       " 'ten',\n",
       " 'countries',\n",
       " 'steps',\n",
       " 'taken',\n",
       " 'end',\n",
       " 'discrimination',\n",
       " 'violence',\n",
       " 'women',\n",
       " ',',\n",
       " 'Fiji',\n",
       " 'acknowledged',\n",
       " 'challenges',\n",
       " 'posed',\n",
       " 'issues',\n",
       " '.',\n",
       " 'New',\n",
       " 'initiatives',\n",
       " 'included',\n",
       " 'updated',\n",
       " 'provisions',\n",
       " 'Crimes',\n",
       " 'Decree',\n",
       " 'offences',\n",
       " 'rape',\n",
       " 'sexual',\n",
       " 'assault',\n",
       " ',',\n",
       " 'passing',\n",
       " 'application',\n",
       " 'Domestic',\n",
       " 'Violence',\n",
       " 'Decree',\n",
       " ',',\n",
       " 'judicial',\n",
       " 'training',\n",
       " ',',\n",
       " 'new',\n",
       " 'National',\n",
       " 'Gender',\n",
       " 'Policy',\n",
       " 'gender',\n",
       " 'training',\n",
       " 'civil',\n",
       " 'servants',\n",
       " '.',\n",
       " 'Fiji',\n",
       " 'corrected',\n",
       " 'claim',\n",
       " 'made',\n",
       " 'Netherlands',\n",
       " 'Constitution',\n",
       " 'protect',\n",
       " 'women',\n",
       " 'listing',\n",
       " 'newly',\n",
       " 'protected',\n",
       " 'grounds',\n",
       " ',',\n",
       " 'addition',\n",
       " 'sex',\n",
       " 'gender',\n",
       " ',',\n",
       " 'Bill',\n",
       " 'Rights',\n",
       " ',',\n",
       " 'included',\n",
       " 'gender',\n",
       " 'identity',\n",
       " 'expression',\n",
       " ',',\n",
       " 'pregnancy',\n",
       " 'marital',\n",
       " 'status',\n",
       " ',',\n",
       " 'constituted',\n",
       " 'broad',\n",
       " 'protection',\n",
       " 'discrimination',\n",
       " 'women',\n",
       " ',',\n",
       " 'allowing',\n",
       " 'legal',\n",
       " 'expression',\n",
       " 'intersectional',\n",
       " 'discrimination',\n",
       " '.',\n",
       " 'It',\n",
       " 'also',\n",
       " 'clarified',\n",
       " 'higher',\n",
       " 'levels',\n",
       " 'reported',\n",
       " 'cases',\n",
       " 'domestic',\n",
       " 'violence',\n",
       " ',',\n",
       " 'concern',\n",
       " 'raised',\n",
       " ',',\n",
       " 'fact',\n",
       " 'reflected',\n",
       " 'higher',\n",
       " 'reporting',\n",
       " 'victims',\n",
       " 'owing',\n",
       " 'confidence',\n",
       " 'above-mentioned',\n",
       " 'initiatives',\n",
       " '.',\n",
       " '12',\n",
       " '.',\n",
       " 'Those',\n",
       " 'measures',\n",
       " 'would',\n",
       " 'meaningful',\n",
       " 'stakeholders',\n",
       " 'played',\n",
       " 'part',\n",
       " 'shaping',\n",
       " 'societyÕs',\n",
       " 'attitudes',\n",
       " 'towards',\n",
       " 'zero',\n",
       " 'tolerance',\n",
       " 'discrimination',\n",
       " 'violence',\n",
       " 'women',\n",
       " '.',\n",
       " 'Training',\n",
       " 'participation',\n",
       " 'police',\n",
       " ',',\n",
       " 'civil',\n",
       " 'society',\n",
       " ',',\n",
       " 'judiciary',\n",
       " 'prosecutors',\n",
       " 'also',\n",
       " 'required',\n",
       " '.',\n",
       " 'It',\n",
       " 'important',\n",
       " 'civil',\n",
       " 'society',\n",
       " 'organizations',\n",
       " 'familiarize',\n",
       " 'laws',\n",
       " 'initiatives',\n",
       " 'empowered',\n",
       " 'represent',\n",
       " 'women',\n",
       " 'legal',\n",
       " 'system',\n",
       " 'Domestic',\n",
       " 'Violence',\n",
       " 'Decree',\n",
       " '.',\n",
       " '13',\n",
       " '.',\n",
       " 'The',\n",
       " 'Domestic',\n",
       " 'Violence',\n",
       " 'Decree',\n",
       " 'establish',\n",
       " 'domestic',\n",
       " 'violence',\n",
       " 'offence',\n",
       " ';',\n",
       " 'charge',\n",
       " 'would',\n",
       " 'remain',\n",
       " 'one',\n",
       " 'assault',\n",
       " 'Crimes',\n",
       " 'Decree',\n",
       " '.',\n",
       " 'However',\n",
       " ',',\n",
       " 'important',\n",
       " 'provisions',\n",
       " 'Domestic',\n",
       " 'Violence',\n",
       " 'Decree',\n",
       " 'could',\n",
       " 'used',\n",
       " 'protect',\n",
       " 'women',\n",
       " '.',\n",
       " '14',\n",
       " '.',\n",
       " 'Responding',\n",
       " 'questions',\n",
       " 'Belgium',\n",
       " 'Estonia',\n",
       " 'International',\n",
       " 'Criminal',\n",
       " 'Court',\n",
       " ',',\n",
       " 'delegation',\n",
       " 'said',\n",
       " 'Fiji',\n",
       " 'one',\n",
       " 'first',\n",
       " 'States',\n",
       " 'ratify',\n",
       " 'Rome',\n",
       " 'Statute',\n",
       " 'remained',\n",
       " 'steadfastly',\n",
       " 'committed',\n",
       " 'International',\n",
       " 'Criminal',\n",
       " 'Court',\n",
       " '.',\n",
       " 'The',\n",
       " 'countryÕs',\n",
       " 'domestic',\n",
       " 'legislation',\n",
       " 'full',\n",
       " 'complementarity',\n",
       " 'provisions',\n",
       " 'Rome',\n",
       " 'Statute',\n",
       " 'domestic',\n",
       " 'legislation',\n",
       " 'Crimes',\n",
       " 'Decree',\n",
       " '.',\n",
       " '15',\n",
       " '.',\n",
       " 'Responding',\n",
       " 'questions',\n",
       " 'Ethiopia',\n",
       " 'Switzerland',\n",
       " 'rights',\n",
       " 'vis-ˆ-vis',\n",
       " 'limitations',\n",
       " 'Fijian',\n",
       " 'Constitution',\n",
       " ',',\n",
       " 'Fiji',\n",
       " 'explained',\n",
       " 'burden',\n",
       " 'State',\n",
       " 'prove',\n",
       " 'limitations',\n",
       " 'necessary',\n",
       " '.',\n",
       " 'The',\n",
       " 'law',\n",
       " ...]"
      ]
     },
     "execution_count": 104,
     "metadata": {},
     "output_type": "execute_result"
    }
   ],
   "source": [
    "no_stops = [word for word in tokens if word not in stopwords.words('english')]\n",
    "no_stops"
   ]
  },
  {
   "cell_type": "markdown",
   "metadata": {},
   "source": [
    "#### 60. How many words are in no_stops?"
   ]
  },
  {
   "cell_type": "code",
   "execution_count": 105,
   "metadata": {},
   "outputs": [
    {
     "name": "stdout",
     "output_type": "stream",
     "text": [
      "7860\n"
     ]
    }
   ],
   "source": [
    "print(len(no_stops))"
   ]
  },
  {
   "cell_type": "markdown",
   "metadata": {},
   "source": [
    "#### 61. Import the `counter` function from collections by copy/pasting the code below into a new cell. Then, compute the frequency of words found in `no_stops`. Print the most common 10.\n",
    "\n",
    "from collections import Counter  "
   ]
  },
  {
   "cell_type": "code",
   "execution_count": 106,
   "metadata": {},
   "outputs": [],
   "source": [
    "from collections import Counter"
   ]
  },
  {
   "cell_type": "code",
   "execution_count": 118,
   "metadata": {},
   "outputs": [
    {
     "data": {
      "text/plain": [
       "[('.', 406),\n",
       " (',', 386),\n",
       " ('(', 202),\n",
       " (')', 202),\n",
       " (';', 180),\n",
       " ('...', 137),\n",
       " ('rights', 116),\n",
       " ('human', 86),\n",
       " ('Fiji', 85),\n",
       " ('made', 63)]"
      ]
     },
     "execution_count": 118,
     "metadata": {},
     "output_type": "execute_result"
    }
   ],
   "source": [
    "word_freq = Counter(no_stops)\n",
    "word_freq.most_common(10)"
   ]
  },
  {
   "cell_type": "markdown",
   "metadata": {},
   "source": [
    "# Section 7: Bash\n",
    "****"
   ]
  },
  {
   "cell_type": "markdown",
   "metadata": {},
   "source": [
    "Define the following Bash commands. What do they do?  \n",
    "\n",
    "1. whoami  \n",
    "2. pwd  \n",
    "3. ls  \n",
    "4. mkdir  \n",
    "5. touch  \n",
    "6. cd  \n",
    "7. cat (open on PC)  \n",
    "8. echo  \n",
    "9. cp  \n",
    "10. rm  "
   ]
  },
  {
   "cell_type": "markdown",
   "metadata": {},
   "source": [
    "#### 62.  \n",
    "1. whoami = who am i. It gives the username of the user.\n",
    "\n",
    "#### 63.  \n",
    "2. pwd = print working directory.  It shows where you are working from in your computer.\n",
    "\n",
    "#### 64.  \n",
    "3. ls =  list directory. It shows the files in the directory you are in.\n",
    "\n",
    "#### 65.  \n",
    "4. mkdir =  make directory. It makes a new directory.\n",
    "\n",
    "#### 66.  \n",
    "5. touch =  touch. It makes new files.\n",
    "\n",
    "#### 67.  \n",
    "6. cd =  change directory. It can move you to different working directories. You can use it to access different files in various locations. \n",
    "\n",
    "#### 68.  \n",
    "7. cat (open on PC) =  concatenate. It can be used to open files and view the contents of works(including websites). \n",
    "\n",
    "#### 69.  \n",
    "8. echo = echo. It can print stuff and redirect it to another location.\n",
    "\n",
    "#### 70.  \n",
    "9. cp =  copy and paste. It can copy a file and paste it.\n",
    "\n",
    "#### 71.  \n",
    "10. rm = remove. It can delete a file. "
   ]
  },
  {
   "cell_type": "markdown",
   "metadata": {},
   "source": [
    "# Section 8: sqlite"
   ]
  },
  {
   "cell_type": "markdown",
   "metadata": {},
   "source": [
    "#### 72. Write one sentence describing sqlite. Write a second sentence stating why it is useful. "
   ]
  },
  {
   "cell_type": "markdown",
   "metadata": {},
   "source": [
    "Sqlite is a free (for use) library that manages databases. It is useful for storing and accessing codes."
   ]
  },
  {
   "cell_type": "markdown",
   "metadata": {},
   "source": [
    "# Section 9: Projects"
   ]
  },
  {
   "cell_type": "markdown",
   "metadata": {},
   "source": [
    "#### 73. Write five sentences describing your group project. "
   ]
  },
  {
   "cell_type": "markdown",
   "metadata": {},
   "source": [
    "For my group project, my partners and I are focusing on articles that are more relevant for text analysis since we are all dealing with that sort of data for our individual projects. We are addressing Nan Z. Da's argument by presenting works that elaborate the significance of CLS for analyzing texts. As a group we are reading the Schulz article \"What is Distant Reading?\" to define the value of doing distant readings. I am also reading Chu's article on data cleaning to present issues with data quality in data analysis (as a sort of counter argument). Utlimately, we are arguing that CLS allows people to use news tools to assist in understanding texts, not as a way to replace close readings but to see new quantitative aspects of texts that we would not have otherwise had without the use of technology. "
   ]
  },
  {
   "cell_type": "markdown",
   "metadata": {},
   "source": [
    "#### 74. Write five sentences describing your inidvidual project. "
   ]
  },
  {
   "cell_type": "markdown",
   "metadata": {},
   "source": [
    "My individual project will investigate whether language used to describe people differs for descriptions of people of different races. I will specifically look at news headlines/blurbs on a popular news outlet's Twitter account. I will look at words used to describe people of different races if race is specified. I will also see which words are used most frequently and compare them. I am still unsure about this part, but I was thinking of comparing the findings of two separate outlets to see how they vary from outlet to outlet. "
   ]
  },
  {
   "cell_type": "markdown",
   "metadata": {},
   "source": [
    "# Section 10: Submit your assignment and GitHub"
   ]
  },
  {
   "cell_type": "markdown",
   "metadata": {
    "collapsed": true
   },
   "source": [
    "#### 75. Submit this assignment on bCourses (see bCourses for the instructions)"
   ]
  },
  {
   "cell_type": "markdown",
   "metadata": {},
   "source": [
    "#### 76. Create a free GitHub account and upload this Jupyter Notebook. Add me (Evan) as a colaborator so I can see. "
   ]
  }
 ],
 "metadata": {
  "kernelspec": {
   "display_name": "Python 3",
   "language": "python",
   "name": "python3"
  },
  "language_info": {
   "codemirror_mode": {
    "name": "ipython",
    "version": 3
   },
   "file_extension": ".py",
   "mimetype": "text/x-python",
   "name": "python",
   "nbconvert_exporter": "python",
   "pygments_lexer": "ipython3",
   "version": "3.7.3"
  }
 },
 "nbformat": 4,
 "nbformat_minor": 2
}
